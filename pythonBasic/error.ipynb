{
 "cells": [
  {
   "cell_type": "code",
   "execution_count": 1,
   "id": "0e424108",
   "metadata": {},
   "outputs": [
    {
     "name": "stdout",
     "output_type": "stream",
     "text": [
      "Error: division by zero\n"
     ]
    }
   ],
   "source": [
    "try:\n",
    "    res = 10/0\n",
    "except ZeroDivisionError as e:\n",
    "    print(\"Error:\", e)\n",
    "except Exception as e:\n",
    "    print(\"Some other error occurred:\", e)"
   ]
  },
  {
   "cell_type": "markdown",
   "id": "08fce4ec",
   "metadata": {},
   "source": [
    "#### RAISING OUR OWN EXCEPTIONS\n",
    "\n",
    "we can raise our own exceptions using the `raise` keyword.\n",
    "\n",
    "example:"
   ]
  },
  {
   "cell_type": "code",
   "execution_count": 2,
   "id": "724f69f2",
   "metadata": {},
   "outputs": [
    {
     "name": "stdout",
     "output_type": "stream",
     "text": [
      "2\n"
     ]
    },
    {
     "ename": "IndexError",
     "evalue": "Index out of range",
     "output_type": "error",
     "traceback": [
      "\u001b[31m---------------------------------------------------------------------------\u001b[39m",
      "\u001b[31mIndexError\u001b[39m                                Traceback (most recent call last)",
      "\u001b[36mCell\u001b[39m\u001b[36m \u001b[39m\u001b[32mIn[2]\u001b[39m\u001b[32m, line 12\u001b[39m\n\u001b[32m     10\u001b[39m c = coll([\u001b[32m1\u001b[39m, \u001b[32m2\u001b[39m, \u001b[32m3\u001b[39m])\n\u001b[32m     11\u001b[39m \u001b[38;5;28mprint\u001b[39m(c[\u001b[32m1\u001b[39m])  \u001b[38;5;66;03m# Output: 2\u001b[39;00m\n\u001b[32m---> \u001b[39m\u001b[32m12\u001b[39m \u001b[38;5;28mprint\u001b[39m(\u001b[43mc\u001b[49m\u001b[43m[\u001b[49m\u001b[32;43m5\u001b[39;49m\u001b[43m]\u001b[49m)  \u001b[38;5;66;03m# Raises IndexError: Index out of range\u001b[39;00m\n",
      "\u001b[36mCell\u001b[39m\u001b[36m \u001b[39m\u001b[32mIn[2]\u001b[39m\u001b[32m, line 7\u001b[39m, in \u001b[36mcoll.__getitem__\u001b[39m\u001b[34m(self, index)\u001b[39m\n\u001b[32m      5\u001b[39m \u001b[38;5;28;01mdef\u001b[39;00m\u001b[38;5;250m \u001b[39m\u001b[34m__getitem__\u001b[39m(\u001b[38;5;28mself\u001b[39m, index):\n\u001b[32m      6\u001b[39m     \u001b[38;5;28;01mif\u001b[39;00m index >= \u001b[38;5;28mlen\u001b[39m(\u001b[38;5;28mself\u001b[39m.lst):\n\u001b[32m----> \u001b[39m\u001b[32m7\u001b[39m         \u001b[38;5;28;01mraise\u001b[39;00m \u001b[38;5;167;01mIndexError\u001b[39;00m(\u001b[33m\"\u001b[39m\u001b[33mIndex out of range\u001b[39m\u001b[33m\"\u001b[39m)\n\u001b[32m      8\u001b[39m     \u001b[38;5;28;01mreturn\u001b[39;00m \u001b[38;5;28mself\u001b[39m.lst[index]\n",
      "\u001b[31mIndexError\u001b[39m: Index out of range"
     ]
    }
   ],
   "source": [
    "class coll:\n",
    "    def __init__(self, lst):\n",
    "        self.lst = lst\n",
    "\n",
    "    def __getitem__(self, index):\n",
    "        if index >= len(self.lst):\n",
    "            raise IndexError(\"Index out of range\")\n",
    "        return self.lst[index]\n",
    "\n",
    "c = coll([1, 2, 3])\n",
    "print(c[1])  # Output: 2\n",
    "print(c[5])  # Raises IndexError: Index out of range"
   ]
  },
  {
   "cell_type": "code",
   "execution_count": null,
   "id": "f0f16f62",
   "metadata": {},
   "outputs": [],
   "source": []
  }
 ],
 "metadata": {
  "kernelspec": {
   "display_name": "Python 3",
   "language": "python",
   "name": "python3"
  },
  "language_info": {
   "codemirror_mode": {
    "name": "ipython",
    "version": 3
   },
   "file_extension": ".py",
   "mimetype": "text/x-python",
   "name": "python",
   "nbconvert_exporter": "python",
   "pygments_lexer": "ipython3",
   "version": "3.13.7"
  }
 },
 "nbformat": 4,
 "nbformat_minor": 5
}
