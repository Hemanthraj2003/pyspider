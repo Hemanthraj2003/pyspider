{
 "cells": [
  {
   "cell_type": "markdown",
   "id": "4c1bfa8b",
   "metadata": {},
   "source": [
    "# <font color=blue> USER DEFINED EXCEPTIONS</font>\n",
    "\n",
    "- these are the exceptions that are created by programers based on there requirement.\n",
    "\n",
    "<u> SYNTAX: </u> \n",
    "\n",
    "```python \n",
    "class MyException(Exception):\n",
    "        pass\n",
    "    \n",
    "    m1 = MyException(\"This is my exception\")\n",
    "    raise m1\n",
    "```\n",
    "\n",
    "#### EXAMPLE"
   ]
  },
  {
   "cell_type": "code",
   "execution_count": 5,
   "id": "ed91b7fc",
   "metadata": {},
   "outputs": [
    {
     "name": "stdout",
     "output_type": "stream",
     "text": [
      "0\n",
      "1\n",
      "2\n",
      "3\n",
      "Caught an exception: This is the last iteration!\n"
     ]
    }
   ],
   "source": [
    "class CustomException(Exception):\n",
    "    pass\n",
    "\n",
    "try:\n",
    "    for i in range(5):\n",
    "        if i == 4:\n",
    "            raise CustomException(\"This is the last iteration!\")\n",
    "        print(i)\n",
    "except CustomException as e:\n",
    "    print(f\"Caught an exception: {e}\")"
   ]
  },
  {
   "cell_type": "markdown",
   "id": "ec1e75b7",
   "metadata": {},
   "source": [
    "# <font color=blue> FINALLY BLOCK</font>\n",
    "\n",
    "- The finally block is always executed, regardless of whether an exception was raised or not. \n",
    "\n",
    "- It is typically used for cleanup actions, such as closing files or releasing resources.\n",
    "\n"
   ]
  },
  {
   "cell_type": "code",
   "execution_count": 7,
   "id": "05d19c24",
   "metadata": {},
   "outputs": [
    {
     "name": "stdout",
     "output_type": "stream",
     "text": [
      "Invalid input! Please enter a valid number. Error: invalid literal for int() with base 10: 'as'\n",
      "This block always executes, regardless of exceptions.\n"
     ]
    }
   ],
   "source": [
    "try:\n",
    "    num = int(input(\"Enter a number: \"))\n",
    "    print(f\"You entered: {num}\")\n",
    "except ValueError as e:\n",
    "    print(f\"Invalid input! Please enter a valid number. Error: {e}\")\n",
    "finally:\n",
    "    print(\"This block always executes, regardless of exceptions.\")"
   ]
  }
 ],
 "metadata": {
  "kernelspec": {
   "display_name": "Python 3",
   "language": "python",
   "name": "python3"
  },
  "language_info": {
   "codemirror_mode": {
    "name": "ipython",
    "version": 3
   },
   "file_extension": ".py",
   "mimetype": "text/x-python",
   "name": "python",
   "nbconvert_exporter": "python",
   "pygments_lexer": "ipython3",
   "version": "3.13.7"
  }
 },
 "nbformat": 4,
 "nbformat_minor": 5
}
