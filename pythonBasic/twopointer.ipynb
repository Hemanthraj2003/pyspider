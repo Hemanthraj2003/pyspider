{
 "cells": [
  {
   "cell_type": "markdown",
   "id": "8a097382",
   "metadata": {},
   "source": [
    "# **<font color=\"teal\">Two pointer approach</font>**\n",
    "\n",
    "we are putting 2 pointers on a single string, like **i** and **j**, "
   ]
  },
  {
   "cell_type": "markdown",
   "id": "d225c759",
   "metadata": {},
   "source": [
    "##### *<font color=\"#fcba03\">(v01) WAP a Program to print occurance of each charcter in a given string</font>*"
   ]
  },
  {
   "cell_type": "code",
   "execution_count": null,
   "id": "56ea1632",
   "metadata": {},
   "outputs": [],
   "source": [
    "str = input()\n",
    "i = 0\n",
    "while i < len(str):\n",
    "    j = 0\n",
    "    count = 0 \n",
    "    ch1 = str[i]\n",
    "    while j< len(str):\n",
    "        if str[j] == ch1:\n",
    "            count += 1\n",
    "        j +=1\n",
    "    print(ch1 , \"count is \", count)\n",
    "    i +=1"
   ]
  },
  {
   "cell_type": "markdown",
   "id": "661bfd1e",
   "metadata": {},
   "source": [
    "<h4><i><font color=\"#fcba03\">(v02) WAP a Programs to print occurance of each character in a given string</font></i> </h4>"
   ]
  },
  {
   "cell_type": "code",
   "execution_count": null,
   "id": "c7cadaaf",
   "metadata": {},
   "outputs": [],
   "source": [
    "str = input()\n",
    "\n",
    "uniqueString = \"\"\n",
    "\n",
    "for i in str:\n",
    "    if i not in uniqueString:\n",
    "        uniqueString += i\n",
    "\n",
    "i = 0\n",
    "\n",
    "while i < len(uniqueString):\n",
    "    ch = uniqueString[i]\n",
    "    count = 0\n",
    "    j = 0\n",
    "    while j < len(str):\n",
    "        if str[j] == ch:\n",
    "            count += 1\n",
    "        j+=1\n",
    "    print(ch,\" count is \", count)\n",
    "    i +=1\n"
   ]
  },
  {
   "cell_type": "markdown",
   "id": "ac97bcdd",
   "metadata": {},
   "source": [
    "<h4><i><font color=\"#fcba03\">03. program to find First Character Occurrence in a String </font></i></h4>"
   ]
  },
  {
   "cell_type": "code",
   "execution_count": null,
   "id": "1e0153ea",
   "metadata": {},
   "outputs": [],
   "source": [
    "str = input()\n",
    "ch_01 = str[0]\n",
    "count = 0\n",
    "\n",
    "for ch in str:\n",
    "    if ch_01 == ch:\n",
    "        count += 1\n",
    "\n",
    "print(ch_01, \" count= \", count) "
   ]
  },
  {
   "cell_type": "markdown",
   "id": "36e3cc28",
   "metadata": {},
   "source": [
    "<h4><i><font color=\"#fcba03\">04. program to find Last Character Occurrence in a String </font></i></h4>"
   ]
  },
  {
   "cell_type": "code",
   "execution_count": null,
   "id": "a91bec42",
   "metadata": {},
   "outputs": [],
   "source": [
    "str = input()\n",
    "last = str[-1]\n",
    "count = 0\n",
    "\n",
    "for ch in str:\n",
    "    if last == ch:\n",
    "        count += 1\n",
    "\n",
    "print(last, \" count= \", count) "
   ]
  },
  {
   "cell_type": "markdown",
   "id": "60bde4e7",
   "metadata": {},
   "source": [
    "<h4><i><font color=\"#fcba03\">05. Find Maximum Occurring Character in a String </font></i></h4>"
   ]
  },
  {
   "cell_type": "code",
   "execution_count": null,
   "id": "441f117b",
   "metadata": {},
   "outputs": [],
   "source": [
    "str = input()\n",
    "maxCount = 0\n",
    "maxChar = ''\n",
    "\n",
    "for ch in str:\n",
    "    j=0\n",
    "    count = 0\n",
    "    while j<len(str):\n",
    "        if ch == str[j]:\n",
    "            count +=1\n",
    "        j+=1\n",
    "    \n",
    "    if count > maxCount :\n",
    "        maxCount = count\n",
    "        maxChar = ch\n",
    "\n",
    "print(maxChar, \" is has the maximum occurance of \", maxCount)"
   ]
  },
  {
   "cell_type": "markdown",
   "id": "21bfd071",
   "metadata": {},
   "source": [
    "<h4><i><font color=\"#fcba03\">06. Find Maximum Occurring Character in a String </font></i></h4>"
   ]
  },
  {
   "cell_type": "code",
   "execution_count": 2,
   "id": "ccd14086",
   "metadata": {},
   "outputs": [
    {
     "name": "stdout",
     "output_type": "stream",
     "text": [
      "aaaaaaaaaaaaaaaaaaaaaaaaaaaaaaaabbccccccccc\n"
     ]
    }
   ],
   "source": [
    "str = \"a32b2c9\"\n",
    "prev = \"\"\n",
    "digit = \"\"\n",
    "res = \"\"\n",
    "for ch in str:\n",
    "    if (ch >=\"0\" and ch <=\"9\"):\n",
    "        digit += ch\n",
    "    else:\n",
    "        if(digit != \"\"):\n",
    "            res = res + prev * int(digit)\n",
    "            digit = \"\"\n",
    "        prev = ch\n",
    "if digit :\n",
    "    res = res + prev * int(digit)\n",
    "\n",
    "print(res) "
   ]
  },
  {
   "cell_type": "code",
   "execution_count": null,
   "id": "16eba7cb",
   "metadata": {},
   "outputs": [],
   "source": []
  }
 ],
 "metadata": {
  "kernelspec": {
   "display_name": "Python 3",
   "language": "python",
   "name": "python3"
  },
  "language_info": {
   "codemirror_mode": {
    "name": "ipython",
    "version": 3
   },
   "file_extension": ".py",
   "mimetype": "text/x-python",
   "name": "python",
   "nbconvert_exporter": "python",
   "pygments_lexer": "ipython3",
   "version": "3.13.5"
  }
 },
 "nbformat": 4,
 "nbformat_minor": 5
}
