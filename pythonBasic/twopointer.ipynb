{
 "cells": [
  {
   "cell_type": "markdown",
   "id": "8a097382",
   "metadata": {},
   "source": [
    "# Two pointer in string example!!"
   ]
  },
  {
   "cell_type": "code",
   "execution_count": null,
   "id": "56ea1632",
   "metadata": {},
   "outputs": [],
   "source": [
    "# hello"
   ]
  }
 ],
 "metadata": {
  "language_info": {
   "name": "python"
  }
 },
 "nbformat": 4,
 "nbformat_minor": 5
}
