{
 "cells": [
  {
   "cell_type": "markdown",
   "id": "3727b783",
   "metadata": {},
   "source": [
    "<h2 style=\"color: #34ebb7\">Sub String</h2>"
   ]
  },
  {
   "cell_type": "markdown",
   "id": "cdb9b47b",
   "metadata": {},
   "source": [
    "*<h5 style=\"color: yellow\">00. WAP a program to print all the substring of \"PYTHON\"</h5>*"
   ]
  },
  {
   "cell_type": "code",
   "execution_count": 5,
   "id": "a3b78c2b",
   "metadata": {},
   "outputs": [
    {
     "name": "stdout",
     "output_type": "stream",
     "text": [
      "P   PY   PYT   PYTH   PYTHO   PYTHON   \n",
      "Y   YT   YTH   YTHO   YTHON   \n",
      "T   TH   THO   THON   \n",
      "H   HO   HON   \n",
      "O   ON   \n",
      "N   \n"
     ]
    }
   ],
   "source": [
    "str = \"PYTHON\"\n",
    "i = 0\n",
    "while i < len(str):\n",
    "    j=i\n",
    "    while j < len(str):\n",
    "        substr = str[i:j+1]\n",
    "        print(substr, end=\"   \")\n",
    "        j+=1\n",
    "    print()\n",
    "    i+=1"
   ]
  },
  {
   "cell_type": "markdown",
   "id": "d926c8df",
   "metadata": {},
   "source": [
    "*<h5 style=\"color: yellow\">01. WAP a program to print the substr whose length = 2</h5>*"
   ]
  },
  {
   "cell_type": "code",
   "execution_count": 6,
   "id": "8439ee24",
   "metadata": {},
   "outputs": [
    {
     "name": "stdout",
     "output_type": "stream",
     "text": [
      "He\n",
      "el\n",
      "ll\n",
      "lo\n",
      "o \n",
      " W\n",
      "Wo\n",
      "or\n",
      "rl\n",
      "ld\n"
     ]
    }
   ],
   "source": [
    "str = input()\n",
    "\n",
    "i = 0 \n",
    "while i < len(str):\n",
    "    j = i\n",
    "    while j < len(str):\n",
    "        substr = str[i:j+1]\n",
    "        if ( len(substr) == 2 ) :\n",
    "            print(substr)\n",
    "        j += 1\n",
    "    i += 1"
   ]
  },
  {
   "cell_type": "markdown",
   "id": "d6b19de0",
   "metadata": {},
   "source": [
    "*<h5 style=\"color: yellow\">02. WAP a program to print palindrome in substring whole length > 1</h5>*"
   ]
  },
  {
   "cell_type": "code",
   "execution_count": null,
   "id": "d0cbbfc4",
   "metadata": {},
   "outputs": [
    {
     "name": "stdout",
     "output_type": "stream",
     "text": [
      "ll\n"
     ]
    }
   ],
   "source": [
    "str = input()\n",
    "i = 0\n",
    "while i < len(str):\n",
    "    j = i\n",
    "    while j < len(str):\n",
    "        substr = str[i : j+1]\n",
    "        if(len(substr) > 1 and substr == substr[::-1]):\n",
    "            print(substr)\n",
    "        j += 1\n",
    "    i += 1"
   ]
  },
  {
   "cell_type": "markdown",
   "id": "69558e2d",
   "metadata": {},
   "source": [
    "*<h5 style=\"color: yellow\">03. WAP to print unique substrings</h5>*"
   ]
  },
  {
   "cell_type": "code",
   "execution_count": 27,
   "id": "fff725fa",
   "metadata": {},
   "outputs": [
    {
     "name": "stdout",
     "output_type": "stream",
     "text": [
      "H He Hel \n",
      "e el \n",
      "l \n",
      "l lo lo  lo W \n",
      "o o  o W \n",
      "   W  Wo  Wor  Worl  World \n",
      "W Wo Wor Worl World \n",
      "o or orl orld \n",
      "r rl rld \n",
      "l ld \n",
      "d \n"
     ]
    }
   ],
   "source": [
    "str = input()\n",
    "\n",
    "i = 0\n",
    "\n",
    "while i < len(str):\n",
    "    j = i\n",
    "\n",
    "    while j < len(str):\n",
    "        substr = str[i : j+1 ]\n",
    "        isUnique = False\n",
    "        # i1 = 0\n",
    "        # while i1 < len(substr):\n",
    "        #     j1 = i1 \n",
    "        #     count = 0\n",
    "        #     while j1 < len(substr):\n",
    "        #         if(substr[j1] == substr[i1]):\n",
    "        #             count +=1\n",
    "        #             if(count == 2):\n",
    "        #                 isUnique = False\n",
    "        #         j1 +=1\n",
    "        #     i1 += 1\n",
    "\n",
    "        # east approach\n",
    "        res = \"\"\n",
    "        for i1 in substr:\n",
    "            if i1 not in res:\n",
    "                res += i1\n",
    "        if substr == res:\n",
    "            isUnique = True\n",
    "        if isUnique:\n",
    "            print(substr, end=\" \") \n",
    "\n",
    "        j +=1\n",
    "    print()\n",
    "    i += 1\n"
   ]
  },
  {
   "cell_type": "code",
   "execution_count": null,
   "id": "f1a72b6a",
   "metadata": {},
   "outputs": [],
   "source": []
  }
 ],
 "metadata": {
  "kernelspec": {
   "display_name": "Python 3",
   "language": "python",
   "name": "python3"
  },
  "language_info": {
   "codemirror_mode": {
    "name": "ipython",
    "version": 3
   },
   "file_extension": ".py",
   "mimetype": "text/x-python",
   "name": "python",
   "nbconvert_exporter": "python",
   "pygments_lexer": "ipython3",
   "version": "3.13.5"
  }
 },
 "nbformat": 4,
 "nbformat_minor": 5
}
