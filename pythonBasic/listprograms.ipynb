{
 "cells": [
  {
   "cell_type": "markdown",
   "id": "9da2284b",
   "metadata": {},
   "source": [
    "# **<font color=\"teal\">List Programing</font>**"
   ]
  },
  {
   "cell_type": "markdown",
   "id": "a75802c0",
   "metadata": {},
   "source": [
    "The Process of perfomring indivisual task with respect to each eleemnt from the given string"
   ]
  },
  {
   "cell_type": "markdown",
   "id": "05232146",
   "metadata": {},
   "source": [
    "*<h4 style=\"color: #fcba03\">00. WAP to take 3 strings and palindrome or not</h4>*"
   ]
  },
  {
   "cell_type": "code",
   "execution_count": 30,
   "id": "26f9fc85",
   "metadata": {},
   "outputs": [
    {
     "name": "stdout",
     "output_type": "stream",
     "text": [
      "not plaindrom\n"
     ]
    }
   ],
   "source": [
    "str1 = \"Pyhton\" \n",
    "str2 = \"Pyhton\" \n",
    "str3 = \"Pyhton\" \n",
    "\n",
    "if(str1 == str1[::-1]  and str3 == str3[::-1]):\n",
    "    print(\"all three strings are palindrome!!\")\n",
    "if str2 == str2[::-1] :\n",
    "    print(\"2 palindrome\")\n",
    "else:\n",
    "    print(\"not plaindrom\")"
   ]
  },
  {
   "cell_type": "markdown",
   "id": "81c04e98",
   "metadata": {},
   "source": [
    "*<h4 style=\"color: #fcba03\">00. WAP to take 4 numbes and check each is prime  or not</h4>*"
   ]
  },
  {
   "cell_type": "code",
   "execution_count": 31,
   "id": "6a98636a",
   "metadata": {},
   "outputs": [
    {
     "name": "stdout",
     "output_type": "stream",
     "text": [
      "Number 1 is prime:  True\n",
      "Number 2 is prime:  True\n",
      "Number 3 is prime:  False\n",
      "Number 4 is prime:  False\n"
     ]
    }
   ],
   "source": [
    "num1, num2, num3, num4 = 11,23,24,56\n",
    "\n",
    "def checkPrime(num):\n",
    "    i = 1\n",
    "    count = 0\n",
    "    while i <= num:\n",
    "        if (num % i == 0):\n",
    "            count +=1\n",
    "        i += 1\n",
    "    if count == 2 :\n",
    "        return True\n",
    "    else:\n",
    "        return False\n",
    "\n",
    "print(\"Number 1 is prime: \", checkPrime(11))\n",
    "print(\"Number 2 is prime: \", checkPrime(num2))\n",
    "print(\"Number 3 is prime: \", checkPrime(num3))\n",
    "print(\"Number 4 is prime: \", checkPrime(num4))"
   ]
  },
  {
   "cell_type": "markdown",
   "id": "07925e35",
   "metadata": {},
   "source": [
    "*<h4 style=\"color: #fcba03\">01. WAP to print all the elements from a list..</h4>*"
   ]
  },
  {
   "cell_type": "code",
   "execution_count": 32,
   "id": "907ceafe",
   "metadata": {},
   "outputs": [
    {
     "name": "stdout",
     "output_type": "stream",
     "text": [
      "12\n",
      "13\n",
      "131\n",
      "313\n",
      "13\n",
      "13\n"
     ]
    }
   ],
   "source": [
    "arr = [12,13,131,313,13,13]\n",
    "\n",
    "for i in range(len(arr)):\n",
    "    print(arr[i])\n"
   ]
  },
  {
   "cell_type": "markdown",
   "id": "db50baa6",
   "metadata": {},
   "source": [
    "*<h4 style=\"color: #fcba03\">02. WAP to print even elements from a given int list</h4>*"
   ]
  },
  {
   "cell_type": "code",
   "execution_count": 33,
   "id": "cbda2cfa",
   "metadata": {},
   "outputs": [
    {
     "name": "stdout",
     "output_type": "stream",
     "text": [
      "12\n",
      "\n",
      "14\n",
      "\n",
      "16\n",
      "\n",
      "18\n"
     ]
    }
   ],
   "source": [
    "arr = [12,13,14,15,16,17,18]\n",
    "\n",
    "for i in arr:\n",
    "    print(i if(i%2==0)else \"\")"
   ]
  },
  {
   "cell_type": "markdown",
   "id": "826bdc6b",
   "metadata": {},
   "source": [
    "*<h4 style=\"color: #fcba03\">03. WAP to print odd index elements from a given list</h4>*"
   ]
  },
  {
   "cell_type": "code",
   "execution_count": 34,
   "id": "8102e8ac",
   "metadata": {},
   "outputs": [
    {
     "name": "stdout",
     "output_type": "stream",
     "text": [
      "13\n",
      "15\n",
      "17\n"
     ]
    }
   ],
   "source": [
    "arr = [12,13,14,15,16,17,18]\n",
    "\n",
    "i = 0\n",
    "while i < len(arr):\n",
    "    if ( i%2 != 0):\n",
    "        print(arr[i])\n",
    "    i +=1\n"
   ]
  },
  {
   "cell_type": "markdown",
   "id": "c4ee74d1",
   "metadata": {},
   "source": [
    "*<h4 style=\"color: #fcba03\">04. WAP to print prime elements from a given int list</h4>*"
   ]
  },
  {
   "cell_type": "code",
   "execution_count": 35,
   "id": "c8c8c7a2",
   "metadata": {},
   "outputs": [
    {
     "name": "stdout",
     "output_type": "stream",
     "text": [
      "12  is not prime \n",
      "13  is prime \n",
      "14  is not prime \n",
      "15  is not prime \n",
      "16  is not prime \n",
      "17  is prime \n",
      "18  is not prime \n"
     ]
    }
   ],
   "source": [
    "arr = [12,13,14,15,16,17,18]\n",
    "\n",
    "for num in arr:\n",
    "    count = 0\n",
    "    i = 1\n",
    "    while i <= num :\n",
    "        if( num % i == 0 ):\n",
    "            count += 1\n",
    "        i+=1\n",
    "    \n",
    "    if count == 2 :\n",
    "        print(num, \" is prime \")\n",
    "    else:\n",
    "        print(num, \" is not prime \")"
   ]
  },
  {
   "cell_type": "markdown",
   "id": "dc6d6270",
   "metadata": {},
   "source": [
    "*<h4 style=\"color: #fcba03\">06. WAP to reverse of each sting in a given list </h4>*"
   ]
  },
  {
   "cell_type": "code",
   "execution_count": 37,
   "id": "b7fcf3f6",
   "metadata": {},
   "outputs": [
    {
     "name": "stdout",
     "output_type": "stream",
     "text": [
      "1gnirts\n",
      "2gnirts\n",
      "3gnirts\n"
     ]
    }
   ],
   "source": [
    "arr = [\"string1\",\"string2\",\"string3\"]\n",
    "\n",
    "for str in arr:\n",
    "    print(str[::-1])"
   ]
  },
  {
   "cell_type": "markdown",
   "id": "32065f6d",
   "metadata": {},
   "source": [
    "*<h4 style=\"color: #fcba03\">07. WAP to print count of even numbers in a string </h4>*"
   ]
  },
  {
   "cell_type": "code",
   "execution_count": null,
   "id": "7ca3c334",
   "metadata": {},
   "outputs": [],
   "source": [
    "arr = []\n",
    "count = 0\n",
    "for ele in arr:\n",
    "    if ele % 2 == 0:\n",
    "        count +=1\n",
    "\n",
    "print(\"count\")"
   ]
  },
  {
   "cell_type": "markdown",
   "id": "f063fd66",
   "metadata": {},
   "source": [
    "*<h4 style=\"color: #fcba03\">08. WAP to print total number of positive elements in a given list</h4>*"
   ]
  },
  {
   "cell_type": "code",
   "execution_count": null,
   "id": "1dcaff61",
   "metadata": {},
   "outputs": [],
   "source": [
    "arr = [10,-10,20,-20,30,-30]\n",
    "count = 0\n",
    "for ele in arr:\n",
    "    if ele > 0:\n",
    "        count +=1\n",
    "print(count)"
   ]
  },
  {
   "cell_type": "markdown",
   "id": "7f0565d9",
   "metadata": {},
   "source": [
    "*<h4 style=\"color: #fcba03\">09. WAP to print sum of all interger elements in a given list </h4>*"
   ]
  },
  {
   "cell_type": "code",
   "execution_count": 1,
   "id": "79335cd5",
   "metadata": {},
   "outputs": [
    {
     "name": "stdout",
     "output_type": "stream",
     "text": [
      "13\n"
     ]
    }
   ],
   "source": [
    "arr = [12, \"12\", 1]\n",
    "\n",
    "sum = 0 \n",
    "\n",
    "for ele in arr:\n",
    "    if type(ele) == int :\n",
    "        sum +=ele\n",
    "        \n",
    "print(sum)"
   ]
  },
  {
   "cell_type": "markdown",
   "id": "0aee6d24",
   "metadata": {},
   "source": [
    "*<h4 style=\"color: #fcba03\">10. WAP to check sum of interger elements is even or odd </h4>*"
   ]
  },
  {
   "cell_type": "code",
   "execution_count": null,
   "id": "6a028e6e",
   "metadata": {},
   "outputs": [],
   "source": [
    "arr = []\n",
    "\n",
    "sum = 0 \n",
    "\n",
    "for ele in arr : \n",
    "    if type(ele) == int:\n",
    "        sum += ele\n",
    "        \n",
    "\n",
    "if(sum % 2):\n",
    "    print(\"Even\")\n",
    "else :  \n",
    "    print(\"Odd\")\n"
   ]
  },
  {
   "cell_type": "markdown",
   "id": "184db83d",
   "metadata": {},
   "source": [
    "*<h4 style=\"color: #fcba03\">11. WAP to store and print all the elements which are divisible by 4 from the given integer array </h4>*"
   ]
  },
  {
   "cell_type": "code",
   "execution_count": 2,
   "id": "b91883fe",
   "metadata": {},
   "outputs": [
    {
     "name": "stdout",
     "output_type": "stream",
     "text": [
      "[4, 8]\n"
     ]
    }
   ],
   "source": [
    "arr = [1,2,3,4,5,6,7,8,9,10]\n",
    "resArr = []\n",
    "for ele in arr :\n",
    "    if ele % 4 == 0 : \n",
    "        resArr = resArr + [ele]\n",
    "    \n",
    "print(resArr)"
   ]
  },
  {
   "cell_type": "markdown",
   "id": "992a069c",
   "metadata": {},
   "source": [
    "*<h4 style=\"color: #fcba03\">12. WAP to find min element in a array  </h4>*"
   ]
  },
  {
   "cell_type": "code",
   "execution_count": 3,
   "id": "5e4e03a4",
   "metadata": {},
   "outputs": [
    {
     "name": "stdout",
     "output_type": "stream",
     "text": [
      "-8\n"
     ]
    }
   ],
   "source": [
    "arr = [-1,2,3,4,-8]\n",
    "\n",
    "min = arr[0]\n",
    "\n",
    "for ele in arr :\n",
    "    if ele < min:\n",
    "        min = ele\n",
    "        \n",
    "print(min)"
   ]
  },
  {
   "cell_type": "markdown",
   "id": "066ad92d",
   "metadata": {},
   "source": [
    "*<h4 style=\"color: #fcba03\">13. WAP to find average value of int array  </h4>*"
   ]
  },
  {
   "cell_type": "code",
   "execution_count": 4,
   "id": "d852dcaf",
   "metadata": {},
   "outputs": [
    {
     "name": "stdout",
     "output_type": "stream",
     "text": [
      "Average:  11.2\n"
     ]
    }
   ],
   "source": [
    "arr = [1,2,3,45,5]\n",
    "\n",
    "sum = 0\n",
    "count = 0\n",
    "for ele in arr:\n",
    "    sum+=ele\n",
    "    count +=1\n",
    "\n",
    "print(\"Average: \",sum/count)"
   ]
  },
  {
   "cell_type": "markdown",
   "id": "80d84408",
   "metadata": {},
   "source": [
    "*<h4 style=\"color: #fcba03\">14. WAP to check max ele from the list  </h4>*"
   ]
  },
  {
   "cell_type": "code",
   "execution_count": null,
   "id": "0aaf5d14",
   "metadata": {},
   "outputs": [],
   "source": [
    "arr = [-1,2,3,4,-8]\n",
    "\n",
    "max = arr[0]\n",
    "\n",
    "for ele in arr :\n",
    "    if ele > max:\n",
    "        max = ele\n",
    "        \n",
    "print(max)"
   ]
  },
  {
   "cell_type": "markdown",
   "id": "e12bb073",
   "metadata": {},
   "source": [
    "*<h4 style=\"color: #fcba03\">15. WAP to sum of all even indexs from a given arr  </h4>*"
   ]
  },
  {
   "cell_type": "code",
   "execution_count": null,
   "id": "69ab6078",
   "metadata": {},
   "outputs": [],
   "source": [
    "arr = []\n",
    "\n",
    "sum = 0\n",
    "i = 0\n",
    "while i < len(arr):\n",
    "    if(i%2 == 0):\n",
    "        sum += arr[i]\n",
    "    i += 1\n",
    "print(\"Even Indexed sum\", sum) "
   ]
  },
  {
   "cell_type": "markdown",
   "id": "b79ed372",
   "metadata": {},
   "source": [
    "*<h4 style=\"color: #fcba03\">16. WAP to sum of odd indexed elements  </h4>*"
   ]
  },
  {
   "cell_type": "code",
   "execution_count": null,
   "id": "2d27b2c2",
   "metadata": {},
   "outputs": [],
   "source": [
    "arr = []\n",
    "\n",
    "sum = 0\n",
    "i = 0\n",
    "while i < len(arr):\n",
    "    if(i%2 != 0):\n",
    "        sum += arr[i]\n",
    "    i += 1\n",
    "print(\"Odd sum: \", sum) "
   ]
  },
  {
   "cell_type": "markdown",
   "id": "f77316c0",
   "metadata": {},
   "source": [
    "*<h4 style=\"color: #fcba03\">17. WAP to check min element from even index elements in a list   </h4>*"
   ]
  },
  {
   "cell_type": "code",
   "execution_count": 5,
   "id": "3cc5212a",
   "metadata": {},
   "outputs": [
    {
     "name": "stdout",
     "output_type": "stream",
     "text": [
      "Min element from the even index:  3\n"
     ]
    }
   ],
   "source": [
    "arr = [1,2,3,4,5,7,8,9,10]\n",
    "min = arr[2]\n",
    "i = 1\n",
    "while i < len(arr):\n",
    "    if(i%2 == 0):\n",
    "        if arr[i] < min :\n",
    "            min = arr[i]\n",
    "    i += 1\n",
    "    \n",
    "print(\"Min element from the even index: \", min)   "
   ]
  },
  {
   "cell_type": "markdown",
   "id": "20d801f7",
   "metadata": {},
   "source": [
    "*<h4 style=\"color: #fcba03\">18. WAP to check max element from odd index elements in a list   </h4>*"
   ]
  },
  {
   "cell_type": "code",
   "execution_count": 6,
   "id": "f869914d",
   "metadata": {},
   "outputs": [
    {
     "name": "stdout",
     "output_type": "stream",
     "text": [
      "Max element from the odd index:  9\n"
     ]
    }
   ],
   "source": [
    "arr = [1,2,3,4,5,7,8,9,10]\n",
    "max = arr[1]\n",
    "i = 1\n",
    "while i < len(arr):\n",
    "    if(i%2 != 0):\n",
    "        if arr[i] > max :\n",
    "            max = arr[i]\n",
    "    i += 1\n",
    "    \n",
    "print(\"Max element from the odd index: \", max)"
   ]
  },
  {
   "cell_type": "markdown",
   "id": "2fcbf757",
   "metadata": {},
   "source": [
    "*<h4 style=\"color: #fcba03\">19. WAP to fin average of elements from even indexes   </h4>*"
   ]
  },
  {
   "cell_type": "code",
   "execution_count": 7,
   "id": "5d1a6b01",
   "metadata": {},
   "outputs": [
    {
     "name": "stdout",
     "output_type": "stream",
     "text": [
      "avg of even indexed elements are :  24.0\n"
     ]
    }
   ],
   "source": [
    "arr = [1,2,3,4,5,6,7,8,9]\n",
    "sum = 0\n",
    "count = 0\n",
    "\n",
    "i = 1\n",
    "while i < len(arr):\n",
    "    if i % 2 == 0:\n",
    "        sum += arr[i]\n",
    "        count =+ 1\n",
    "    i += 1\n",
    "    \n",
    "print(\"avg of even indexed elements are : \", sum/count)"
   ]
  },
  {
   "cell_type": "markdown",
   "id": "9025c3cc",
   "metadata": {},
   "source": [
    "*<h4 style=\"color: #fcba03\">20. WAP to fin average of elements from odd indexes   </h4>*\n"
   ]
  },
  {
   "cell_type": "code",
   "execution_count": null,
   "id": "2e185b4f",
   "metadata": {},
   "outputs": [
    {
     "name": "stdout",
     "output_type": "stream",
     "text": [
      "avg of even indexed elements are :  20.0\n"
     ]
    }
   ],
   "source": [
    "arr = [1,2,3,4,5,6,7,8,9]\n",
    "sum = 0\n",
    "count = 0\n",
    "\n",
    "i = 1\n",
    "while i < len(arr):\n",
    "    if i % 2 != 0:\n",
    "        sum += arr[i]\n",
    "        count =+ 1\n",
    "    i += 1\n",
    "    \n",
    "print(\"avg of odd indexed elements are : \", sum/count)"
   ]
  },
  {
   "cell_type": "markdown",
   "id": "61ab15b9",
   "metadata": {},
   "source": [
    "*<h4 style=\"color: #fcba03\">21. WAP to find sum of first halves   </h4>*"
   ]
  },
  {
   "cell_type": "code",
   "execution_count": 23,
   "id": "0d6e2c37",
   "metadata": {},
   "outputs": [
    {
     "name": "stdout",
     "output_type": "stream",
     "text": [
      "Sum of first half:  6\n"
     ]
    }
   ],
   "source": [
    "arr = [1,2,3,4,5, 6]\n",
    "\n",
    "sum = 0\n",
    "\n",
    "i=0\n",
    "\n",
    "while i < (len(arr)//2 ):\n",
    "    sum += arr[i]\n",
    "    i +=1\n",
    "    \n",
    "print(\"Sum of first half: \", sum)  "
   ]
  },
  {
   "cell_type": "markdown",
   "id": "5e66a5f8",
   "metadata": {},
   "source": [
    "*<h4 style=\"color: #fcba03\">22. WAP to find sum of second half   </h4>*"
   ]
  },
  {
   "cell_type": "code",
   "execution_count": 24,
   "id": "5175ea39",
   "metadata": {},
   "outputs": [
    {
     "name": "stdout",
     "output_type": "stream",
     "text": [
      "Sum of second half:  15\n"
     ]
    }
   ],
   "source": [
    "arr = [1,2,3,4,5, 6]\n",
    "\n",
    "sum = 0\n",
    "\n",
    "i= (len(arr)//2 )\n",
    "\n",
    "while i < len(arr) :\n",
    "    sum += arr[i]\n",
    "    i += 1\n",
    "    \n",
    "print(\"Sum of second half: \", sum)  "
   ]
  },
  {
   "cell_type": "markdown",
   "id": "415cbb2b",
   "metadata": {},
   "source": [
    "*<h4 style=\"color: #fcba03\">23. WAP to find min elements from a first half   </h4>*"
   ]
  },
  {
   "cell_type": "code",
   "execution_count": 26,
   "id": "76d2d0c3",
   "metadata": {},
   "outputs": [
    {
     "name": "stdout",
     "output_type": "stream",
     "text": [
      "min from first half:  2\n"
     ]
    }
   ],
   "source": [
    "arr = [10,2,3,4,5, 6]\n",
    "\n",
    "min = arr[0]\n",
    "\n",
    "i=0\n",
    "\n",
    "while i < (len(arr)//2 ):\n",
    "    if arr[i] < min:\n",
    "        min = arr[i]            \n",
    "    i +=1\n",
    "    \n",
    "print(\"min from first half: \", min)  "
   ]
  },
  {
   "cell_type": "markdown",
   "id": "06c3e259",
   "metadata": {},
   "source": [
    "*<h4 style=\"color: #fcba03\">24. WAP to find min from second half   </h4>*"
   ]
  },
  {
   "cell_type": "code",
   "execution_count": 29,
   "id": "5c2f15eb",
   "metadata": {},
   "outputs": [
    {
     "name": "stdout",
     "output_type": "stream",
     "text": [
      "Sum of second half:  6\n"
     ]
    }
   ],
   "source": [
    "arr = [1,2,3,40,50, 6]\n",
    "\n",
    "\n",
    "i= (len(arr)//2 )\n",
    "min = arr[i]\n",
    "\n",
    "\n",
    "while i < len(arr) :\n",
    "    if arr[i] < min:\n",
    "        min = arr[i] \n",
    "    i += 1\n",
    "    \n",
    "print(\"Sum of second half: \", min)  "
   ]
  },
  {
   "cell_type": "markdown",
   "id": "bd9aed85",
   "metadata": {},
   "source": [
    "*<h4 style=\"color: #fcba03\">25. WAP to find max element from the first half</h4>*"
   ]
  },
  {
   "cell_type": "code",
   "execution_count": 30,
   "id": "791feb4f",
   "metadata": {},
   "outputs": [
    {
     "name": "stdout",
     "output_type": "stream",
     "text": [
      "max from first half:  10\n"
     ]
    }
   ],
   "source": [
    "arr = [10,2,3,4,5, 6]\n",
    "\n",
    "max = arr[0]\n",
    "\n",
    "i=0\n",
    "\n",
    "while i < (len(arr)//2 ):\n",
    "    if arr[i] > max:\n",
    "        max = arr[i]            \n",
    "    i +=1\n",
    "    \n",
    "print(\"max from first half: \", max) "
   ]
  },
  {
   "cell_type": "markdown",
   "id": "0d1dfe8d",
   "metadata": {},
   "source": [
    "*<h4 style=\"color: #fcba03\">26. WAP to find max element from the second  half</h4>*"
   ]
  },
  {
   "cell_type": "code",
   "execution_count": 31,
   "id": "5e257493",
   "metadata": {},
   "outputs": [
    {
     "name": "stdout",
     "output_type": "stream",
     "text": [
      "Max element from the second half:  45\n"
     ]
    }
   ],
   "source": [
    "arr = [1,2,3,45,8,9]\n",
    "\n",
    "i = len(arr)//2\n",
    "\n",
    "max = arr[i]\n",
    "\n",
    "while i < len(arr):\n",
    "    if arr[i]> max:\n",
    "        max = arr[i]\n",
    "    i += 1\n",
    "\n",
    "print(\"Max element from the second half: \", max)"
   ]
  },
  {
   "cell_type": "markdown",
   "id": "7ee1ee9b",
   "metadata": {},
   "source": [
    "*<h4 style=\"color: #fcba03\">27. WAP to find avegrage from the first half</h4>*"
   ]
  },
  {
   "cell_type": "code",
   "execution_count": 35,
   "id": "2a35468e",
   "metadata": {},
   "outputs": [
    {
     "name": "stdout",
     "output_type": "stream",
     "text": [
      "Average of first half:  2.0\n"
     ]
    }
   ],
   "source": [
    "arr = [1,2,3,4,5,6]\n",
    "\n",
    "sum,count,i = 0,0,0\n",
    "\n",
    "\n",
    "\n",
    "while i < len(arr)//2 :\n",
    "    sum += arr[i]\n",
    "    count += 1\n",
    "    i+=1\n",
    "\n",
    "print(\"Average of first half: \", sum/count)"
   ]
  },
  {
   "cell_type": "markdown",
   "id": "81eed4c5",
   "metadata": {},
   "source": [
    "*<h4 style=\"color: #fcba03\">28. WAP to find avegrage from the second half</h4>*"
   ]
  },
  {
   "cell_type": "code",
   "execution_count": 36,
   "id": "2131e987",
   "metadata": {},
   "outputs": [
    {
     "name": "stdout",
     "output_type": "stream",
     "text": [
      "Average of second half:  7.0\n"
     ]
    }
   ],
   "source": [
    "arr = [1,2,3,4,5,6,7,8,9]\n",
    "\n",
    "i = len(arr)//2\n",
    "\n",
    "sum,count = 0, 0\n",
    "\n",
    "while i < len(arr):\n",
    "    sum += arr[i]\n",
    "    count+=1\n",
    "    i+=1\n",
    "\n",
    "print(\"Average of second half: \", sum/count)"
   ]
  },
  {
   "cell_type": "code",
   "execution_count": null,
   "id": "3d24bf93",
   "metadata": {},
   "outputs": [],
   "source": []
  }
 ],
 "metadata": {
  "kernelspec": {
   "display_name": "Python 3",
   "language": "python",
   "name": "python3"
  },
  "language_info": {
   "codemirror_mode": {
    "name": "ipython",
    "version": 3
   },
   "file_extension": ".py",
   "mimetype": "text/x-python",
   "name": "python",
   "nbconvert_exporter": "python",
   "pygments_lexer": "ipython3",
   "version": "3.13.5"
  }
 },
 "nbformat": 4,
 "nbformat_minor": 5
}
