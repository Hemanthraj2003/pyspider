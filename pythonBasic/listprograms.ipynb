{
 "cells": [
  {
   "cell_type": "markdown",
   "id": "9da2284b",
   "metadata": {},
   "source": [
    "# **<font color=\"teal\">List Programing</font>**"
   ]
  },
  {
   "cell_type": "markdown",
   "id": "a75802c0",
   "metadata": {},
   "source": [
    "The Process of perfomring indivisual task with respect to each eleemnt from the given string"
   ]
  },
  {
   "cell_type": "markdown",
   "id": "05232146",
   "metadata": {},
   "source": [
    "*<h4 style=\"color: #fcba03\">00. WAP to take 3 strings and palindrome or not</h4>*"
   ]
  },
  {
   "cell_type": "code",
   "execution_count": 30,
   "id": "26f9fc85",
   "metadata": {},
   "outputs": [
    {
     "name": "stdout",
     "output_type": "stream",
     "text": [
      "not plaindrom\n"
     ]
    }
   ],
   "source": [
    "str1 = \"Pyhton\" \n",
    "str2 = \"Pyhton\" \n",
    "str3 = \"Pyhton\" \n",
    "\n",
    "if(str1 == str1[::-1]  and str3 == str3[::-1]):\n",
    "    print(\"all three strings are palindrome!!\")\n",
    "if str2 == str2[::-1] :\n",
    "    print(\"2 palindrome\")\n",
    "else:\n",
    "    print(\"not plaindrom\")"
   ]
  },
  {
   "cell_type": "markdown",
   "id": "81c04e98",
   "metadata": {},
   "source": [
    "*<h4 style=\"color: #fcba03\">00. WAP to take 4 numbes and check each is prime  or not</h4>*"
   ]
  },
  {
   "cell_type": "code",
   "execution_count": 31,
   "id": "6a98636a",
   "metadata": {},
   "outputs": [
    {
     "name": "stdout",
     "output_type": "stream",
     "text": [
      "Number 1 is prime:  True\n",
      "Number 2 is prime:  True\n",
      "Number 3 is prime:  False\n",
      "Number 4 is prime:  False\n"
     ]
    }
   ],
   "source": [
    "num1, num2, num3, num4 = 11,23,24,56\n",
    "\n",
    "def checkPrime(num):\n",
    "    i = 1\n",
    "    count = 0\n",
    "    while i <= num:\n",
    "        if (num % i == 0):\n",
    "            count +=1\n",
    "        i += 1\n",
    "    if count == 2 :\n",
    "        return True\n",
    "    else:\n",
    "        return False\n",
    "\n",
    "print(\"Number 1 is prime: \", checkPrime(11))\n",
    "print(\"Number 2 is prime: \", checkPrime(num2))\n",
    "print(\"Number 3 is prime: \", checkPrime(num3))\n",
    "print(\"Number 4 is prime: \", checkPrime(num4))"
   ]
  },
  {
   "cell_type": "markdown",
   "id": "07925e35",
   "metadata": {},
   "source": [
    "*<h4 style=\"color: #fcba03\">01. WAP to print all the elements from a list..</h4>*"
   ]
  },
  {
   "cell_type": "code",
   "execution_count": 32,
   "id": "907ceafe",
   "metadata": {},
   "outputs": [
    {
     "name": "stdout",
     "output_type": "stream",
     "text": [
      "12\n",
      "13\n",
      "131\n",
      "313\n",
      "13\n",
      "13\n"
     ]
    }
   ],
   "source": [
    "arr = [12,13,131,313,13,13]\n",
    "\n",
    "for i in range(len(arr)):\n",
    "    print(arr[i])\n"
   ]
  },
  {
   "cell_type": "markdown",
   "id": "db50baa6",
   "metadata": {},
   "source": [
    "*<h4 style=\"color: #fcba03\">02. WAP to print even elements from a given int list</h4>*"
   ]
  },
  {
   "cell_type": "code",
   "execution_count": 33,
   "id": "cbda2cfa",
   "metadata": {},
   "outputs": [
    {
     "name": "stdout",
     "output_type": "stream",
     "text": [
      "12\n",
      "\n",
      "14\n",
      "\n",
      "16\n",
      "\n",
      "18\n"
     ]
    }
   ],
   "source": [
    "arr = [12,13,14,15,16,17,18]\n",
    "\n",
    "for i in arr:\n",
    "    print(i if(i%2==0)else \"\")"
   ]
  },
  {
   "cell_type": "markdown",
   "id": "826bdc6b",
   "metadata": {},
   "source": [
    "*<h4 style=\"color: #fcba03\">03. WAP to print odd index elements from a given list</h4>*"
   ]
  },
  {
   "cell_type": "code",
   "execution_count": 34,
   "id": "8102e8ac",
   "metadata": {},
   "outputs": [
    {
     "name": "stdout",
     "output_type": "stream",
     "text": [
      "13\n",
      "15\n",
      "17\n"
     ]
    }
   ],
   "source": [
    "arr = [12,13,14,15,16,17,18]\n",
    "\n",
    "i = 0\n",
    "while i < len(arr):\n",
    "    if ( i%2 != 0):\n",
    "        print(arr[i])\n",
    "    i +=1\n"
   ]
  },
  {
   "cell_type": "markdown",
   "id": "c4ee74d1",
   "metadata": {},
   "source": [
    "*<h4 style=\"color: #fcba03\">04. WAP to print prime elements from a given int list</h4>*"
   ]
  },
  {
   "cell_type": "code",
   "execution_count": 35,
   "id": "c8c8c7a2",
   "metadata": {},
   "outputs": [
    {
     "name": "stdout",
     "output_type": "stream",
     "text": [
      "12  is not prime \n",
      "13  is prime \n",
      "14  is not prime \n",
      "15  is not prime \n",
      "16  is not prime \n",
      "17  is prime \n",
      "18  is not prime \n"
     ]
    }
   ],
   "source": [
    "arr = [12,13,14,15,16,17,18]\n",
    "\n",
    "for num in arr:\n",
    "    count = 0\n",
    "    i = 1\n",
    "    while i <= num :\n",
    "        if( num % i == 0 ):\n",
    "            count += 1\n",
    "        i+=1\n",
    "    \n",
    "    if count == 2 :\n",
    "        print(num, \" is prime \")\n",
    "    else:\n",
    "        print(num, \" is not prime \")"
   ]
  },
  {
   "cell_type": "markdown",
   "id": "c198cc86",
   "metadata": {},
   "source": [
    "*<h4 style=\"color: #fcba03\">05. WAP to print perfect indexed elements in a list </h4>*"
   ]
  },
  {
   "cell_type": "markdown",
   "id": "dc6d6270",
   "metadata": {},
   "source": [
    "*<h4 style=\"color: #fcba03\">06. WAP to reverse of each sting in a given list </h4>*"
   ]
  },
  {
   "cell_type": "code",
   "execution_count": 37,
   "id": "b7fcf3f6",
   "metadata": {},
   "outputs": [
    {
     "name": "stdout",
     "output_type": "stream",
     "text": [
      "1gnirts\n",
      "2gnirts\n",
      "3gnirts\n"
     ]
    }
   ],
   "source": [
    "arr = [\"string1\",\"string2\",\"string3\"]\n",
    "\n",
    "for str in arr:\n",
    "    print(str[::-1])"
   ]
  },
  {
   "cell_type": "markdown",
   "id": "32065f6d",
   "metadata": {},
   "source": [
    "*<h4 style=\"color: #fcba03\">07. WAP to print </h4>*"
   ]
  },
  {
   "cell_type": "code",
   "execution_count": null,
   "id": "7ca3c334",
   "metadata": {},
   "outputs": [],
   "source": [
    "arr = [\"string1\",\"string2\",\"string3\"]\n"
   ]
  }
 ],
 "metadata": {
  "kernelspec": {
   "display_name": "Python 3",
   "language": "python",
   "name": "python3"
  },
  "language_info": {
   "codemirror_mode": {
    "name": "ipython",
    "version": 3
   },
   "file_extension": ".py",
   "mimetype": "text/x-python",
   "name": "python",
   "nbconvert_exporter": "python",
   "pygments_lexer": "ipython3",
   "version": "3.13.5"
  }
 },
 "nbformat": 4,
 "nbformat_minor": 5
}
