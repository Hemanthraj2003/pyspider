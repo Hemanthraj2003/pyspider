{
 "cells": [
  {
   "cell_type": "code",
   "execution_count": null,
   "id": "6cd3299c",
   "metadata": {},
   "outputs": [],
   "source": [
    "str = input()\n",
    "\n",
    "lineCount = 1\n",
    "\n",
    "for i in str:\n",
    "    if i == \"\\n\":\n",
    "        lineCount+=1\n",
    "\n",
    "print(lineCount)"
   ]
  },
  {
   "cell_type": "code",
   "execution_count": null,
   "id": "96681693",
   "metadata": {},
   "outputs": [],
   "source": []
  }
 ],
 "metadata": {
  "language_info": {
   "name": "python"
  }
 },
 "nbformat": 4,
 "nbformat_minor": 5
}
