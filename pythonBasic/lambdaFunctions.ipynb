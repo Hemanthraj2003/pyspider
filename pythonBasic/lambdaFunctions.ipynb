{
 "cells": [
  {
   "cell_type": "markdown",
   "id": "cffd53ea",
   "metadata": {},
   "source": [
    "# <font color=blue> LAMBDA FUNCTION</font>\n",
    "\n",
    "## Overview\n",
    "\n",
    "- Lambda functions are small **anonymous functions** defined using the `lambda` keyword\n",
    "\n",
    "- **Syntax**: `lambda arguments: expression`\n",
    "\n",
    "- **One-liner only**: Can contain only a single expression (no statements)\n",
    "\n",
    "- **Return implicit**: Automatically returns the result of the expression\n",
    "\n",
    "## When to Use Lambda\n",
    "\n",
    "- **Short, simple functions** that can be written in one line\n",
    "\n",
    "- **Higher-order functions**: `map()`, `filter()`, `sorted()`, etc.\n",
    "\n",
    "- **Callback functions**: Event handling, functional programming\n",
    "\n",
    "## Key Limitations\n",
    "\n",
    "- **Single expression only** (no `if`, `for`, `print` statements)\n",
    "\n",
    "- **No documentation** (can't add docstrings)\n",
    "\n",
    "- **Harder to debug** (anonymous nature)\n",
    "\n",
    "- **Poor readability** for complex logic"
   ]
  },
  {
   "cell_type": "code",
   "execution_count": null,
   "id": "143d0f62",
   "metadata": {},
   "outputs": [
    {
     "name": "stdout",
     "output_type": "stream",
     "text": [
      "Doubler: 10\n",
      "Squared: [1, 4, 9, 16, 25]\n",
      "Even numbers: [2, 4]\n",
      "Sorted by grade: [('Charlie', 78), ('Alice', 85), ('Bob', 90)]\n"
     ]
    }
   ],
   "source": [
    "# Example 1: Regular function vs Lambda function\n",
    "def multiplyer(n):\n",
    "    # Using lambda (concise)\n",
    "    return lambda x: x * n\n",
    "    \n",
    "    # Equivalent regular function (verbose)\n",
    "    # def inner(x):\n",
    "    #     return x * n\n",
    "    # return inner\n",
    "\n",
    "doubler = multiplyer(2)\n",
    "print(f\"Doubler: {doubler(5)}\")  # Output: 10"
   ]
  },
  {
   "cell_type": "code",
   "execution_count": null,
   "id": "c329a998",
   "metadata": {},
   "outputs": [
    {
     "name": "stdout",
     "output_type": "stream",
     "text": [
      "Add: 8\n",
      "Hello, Alice!\n",
      "Hi, Bob!\n",
      "10\n",
      "11\n",
      "12\n",
      "Transformed: [3, 4, 9, 8, 15]\n"
     ]
    }
   ],
   "source": [
    "# Edge Cases and Best Practices\n",
    "\n",
    "# AVOID: Complex logic in lambda\n",
    "# Don't do this:\n",
    "# complex_lambda = lambda x: x * 2 if x > 0 else x / 2 if x < 0 else 0\n",
    "\n",
    "# DO: Use regular function for complex logic\n",
    "def complex_operation(x):\n",
    "    if x > 0:\n",
    "        return x * 2\n",
    "    elif x < 0:\n",
    "        return x / 2\n",
    "    else:\n",
    "        return 0\n",
    "\n",
    "# AVOID: Lambda with side effects\n",
    "# Don't do this: lambda x: print(x)  # print is a statement, not expression\n",
    "\n",
    "# DO: Multiple arguments in lambda\n",
    "add = lambda x, y: x + y\n",
    "print(f\"Add: {add(3, 5)}\")\n",
    "\n",
    "# DO: Default arguments in lambda\n",
    "greet = lambda name, greeting=\"Hello\": f\"{greeting}, {name}!\"\n",
    "print(greet(\"Alice\"))\n",
    "print(greet(\"Bob\", \"Hi\"))\n",
    "\n",
    "# Edge Case: Lambda in loops (closure trap)\n",
    "functions = []\n",
    "for i in range(3):\n",
    "    # Wrong: All lambdas will use i=2 (last value)\n",
    "    # functions.append(lambda x: x + i)\n",
    "    \n",
    "    # Correct: Capture i with default argument\n",
    "    functions.append(lambda x, i=i: x + i)\n",
    "\n",
    "# Test the closure\n",
    "for f in functions:\n",
    "    print(f(10))  # Output: 10, 11, 12\n",
    "\n",
    "# Best Practice: When NOT to use lambda\n",
    "data = [1, 2, 3, 4, 5]\n",
    "\n",
    "# Hard to read\n",
    "result = list(map(lambda x: x * 2 if x % 2 == 0 else x * 3, data))\n",
    "\n",
    "# Much clearer with regular function\n",
    "def transform(x):\n",
    "    return x * 2 if x % 2 == 0 else x * 3\n",
    "\n",
    "result = list(map(transform, data))\n",
    "print(f\"Transformed: {result}\")"
   ]
  },
  {
   "cell_type": "markdown",
   "id": "eb03c59a",
   "metadata": {},
   "source": [
    "# <font color=blue> MAP FUNCTION </font>\n",
    "\n",
    "- it is a built-in function in Python that applies a given function to all items in an iterable \n",
    "\n",
    "- returns an iterator (map object) with the results."
   ]
  },
  {
   "cell_type": "code",
   "execution_count": 26,
   "id": "d4998b63",
   "metadata": {},
   "outputs": [
    {
     "name": "stdout",
     "output_type": "stream",
     "text": [
      "<map object at 0x7f3f44329ba0>\n",
      "[True, True, True, True]\n"
     ]
    }
   ],
   "source": [
    "def transform(x):\n",
    "            return True\n",
    "res = map(transform, [1,2,3,4])\n",
    "    \n",
    "\n",
    "print(res)\n",
    "print(list(res))\n",
    "    "
   ]
  },
  {
   "cell_type": "markdown",
   "id": "825ba6b3",
   "metadata": {},
   "source": [
    "# <font color=blue> FILTER FUNCTION </font>\n",
    "\n",
    "- filters elements from an iterable based on a specified condition or predicate function.\n",
    "\n",
    "- returns an iterator (filter object) with the filtered results."
   ]
  },
  {
   "cell_type": "code",
   "execution_count": 30,
   "id": "94925912",
   "metadata": {},
   "outputs": [
    {
     "name": "stdout",
     "output_type": "stream",
     "text": [
      "[2, 4]\n",
      "[2, 4]\n",
      "[2, 4]\n",
      "{2, 4, 6, 8, 10, 12, 14, 16, 18, 20, 22, 24, 26, 28, 30, 32, 34, 36, 38, 40, 42, 44, 46, 48, 50, 52, 54, 56, 58, 60, 62, 64, 66, 68, 70, 72, 74, 76, 78, 80, 82, 84, 86, 88, 90, 92, 94, 96, 98}\n"
     ]
    }
   ],
   "source": [
    "def filter_func(x):\n",
    "    return x % 2 == 0\n",
    "\n",
    "filtered = filter(filter_func, [1, 2, 3, 4])\n",
    "\n",
    "print(list(filtered))\n",
    "\n",
    "filtered = filter(lambda x: x % 2 == 0, [1, 2, 3, 4])\n",
    "print(list(filtered))\n",
    "\n",
    "print(list(filter(lambda x: filter_func(x), [1, 2, 3, 4])))\n",
    "\n",
    "print(set(filter(lambda x: x % 2 ==0, range(1,100))))\n",
    "\n",
    "# not possible\n",
    "# filtered = filter(if x % 2 == 0, [1, 2, 3, 4])"
   ]
  },
  {
   "cell_type": "code",
   "execution_count": 1,
   "id": "3f11c086",
   "metadata": {},
   "outputs": [
    {
     "name": "stdout",
     "output_type": "stream",
     "text": [
      "[1, 4, 9, 16, 25]\n",
      "['APPLE', 'BANANA', 'CHERRY']\n",
      "[0, 4, 8, 12, 16]\n",
      "[1, 3, 5, 7, 9]\n",
      "['lion', 'tiger']\n"
     ]
    }
   ],
   "source": [
    "# map - square each number\n",
    "squared = list(map(lambda x: x**2, [1, 2, 3, 4, 5]))\n",
    "print(squared)\n",
    "\n",
    "# map - convert strings to uppercase\n",
    "uppercased = list(map(lambda s: s.upper(), ['apple', 'banana', 'cherry']))\n",
    "print(uppercased)\n",
    "\n",
    "# map and filter combined - double even numbers only\n",
    "doubled_evens = list(map(lambda x: x * 2, filter(lambda x: x % 2 == 0, range(10))))\n",
    "print(doubled_evens)\n",
    "\n",
    "# filter - keep only odd numbers\n",
    "odds = list(filter(lambda x: x % 2 != 0, range(10)))\n",
    "print(odds)\n",
    "\n",
    "# filter - keep words longer than 3 letters\n",
    "long_words = list(filter(lambda w: len(w) > 3, ['cat', 'lion', 'tiger', 'rat']))\n",
    "print(long_words)"
   ]
  }
 ],
 "metadata": {
  "kernelspec": {
   "display_name": "Python 3",
   "language": "python",
   "name": "python3"
  },
  "language_info": {
   "codemirror_mode": {
    "name": "ipython",
    "version": 3
   },
   "file_extension": ".py",
   "mimetype": "text/x-python",
   "name": "python",
   "nbconvert_exporter": "python",
   "pygments_lexer": "ipython3",
   "version": "3.13.7"
  }
 },
 "nbformat": 4,
 "nbformat_minor": 5
}
