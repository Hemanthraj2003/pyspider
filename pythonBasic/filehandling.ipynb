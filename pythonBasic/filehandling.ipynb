{
 "cells": [
  {
   "cell_type": "markdown",
   "id": "16f6bc93",
   "metadata": {},
   "source": [
    "# <font color=blue> FILE HANDLING </font>\n",
    "\n",
    "\n"
   ]
  },
  {
   "cell_type": "markdown",
   "id": "92c032cd",
   "metadata": {},
   "source": []
  }
 ],
 "metadata": {
  "language_info": {
   "name": "python"
  }
 },
 "nbformat": 4,
 "nbformat_minor": 5
}
