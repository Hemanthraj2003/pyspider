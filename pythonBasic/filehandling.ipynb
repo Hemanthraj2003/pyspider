{
 "cells": [
  {
   "cell_type": "markdown",
   "id": "16f6bc93",
   "metadata": {},
   "source": [
    "# <font color=blue> FILE HANDLING </font>\n",
    "\n",
    "### What is a file ?\n",
    "\n",
    "- File is a named location on disk to store information or data\n",
    "\n",
    "- Files stores data permanently.\n",
    "\n",
    "### Types of files.\n",
    "\n",
    "- `Text files` - stores data in the form of character data.\n",
    "\n",
    "- `Binary files` - stores data in the form of bytes / binary data.\n",
    "\n",
    "### What is file handling ?\n",
    "\n",
    "- it is a process which involes \n",
    "\n",
    "    - writing data to a file \n",
    "\n",
    "    - reading a data from a file  \n",
    "\n",
    "    - updating the data in the file \n",
    "\n",
    "    - deleting the data from the file\n"
   ]
  },
  {
   "cell_type": "markdown",
   "id": "92c032cd",
   "metadata": {},
   "source": []
  }
 ],
 "metadata": {
  "language_info": {
   "name": "python"
  }
 },
 "nbformat": 4,
 "nbformat_minor": 5
}
