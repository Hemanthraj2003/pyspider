{
 "cells": [
  {
   "cell_type": "markdown",
   "id": "4e3f344a",
   "metadata": {},
   "source": [
    "# <font color=#24d4b1 size=18>Functions</font>\n",
    "\n",
    "A function is a block or area that stores a certain set of statements (lines of code) to perform a specific task.\n",
    "\n",
    "## Why do we need a function?\n",
    "\n",
    "Functions are used to store statements once, allowing them to be reused an \"n\" number of times. This promotes code reusability and reduces redundancy.\n",
    "\n",
    "## How to create a function?\n",
    "\n",
    "You create a function using the `def` keyword, followed by the function name, parentheses `()`, and a colon `:`. The code block inside the function is indented.\n",
    "\n",
    "```python\n",
    "def function_name():\n",
    "    statement_1\n",
    "    statement_2\n",
    "    # ... more statements ..."
   ]
  },
  {
   "cell_type": "markdown",
   "id": "cbbbc595",
   "metadata": {},
   "source": [
    "### Function call\n",
    "\n",
    "- It is a statement used to call the instructions which have been stored, syntax : `functionName()`\n",
    "- we can call any function for n-number of times"
   ]
  },
  {
   "cell_type": "code",
   "execution_count": 5,
   "id": "1e11dc21",
   "metadata": {},
   "outputs": [
    {
     "name": "stdout",
     "output_type": "stream",
     "text": [
      "sheela is a good girl\n",
      "sheela is a good girl\n",
      "sheela is a good girl\n",
      "sheela is a good girl\n"
     ]
    }
   ],
   "source": [
    "#example of function...\n",
    "def sheela():\n",
    "    print(\"sheela is a good girl\") \n",
    "\n",
    "sheela()\n",
    "sheela()\n",
    "sheela()\n",
    "sheela()\n"
   ]
  },
  {
   "cell_type": "code",
   "execution_count": 7,
   "id": "e8dde7db",
   "metadata": {},
   "outputs": [
    {
     "name": "stdout",
     "output_type": "stream",
     "text": [
      "Lilla is a good girl\n",
      "shella is a good girl\n",
      "Lilla is a good girl\n"
     ]
    }
   ],
   "source": [
    "# Example 02\n",
    "def lilla():\n",
    "    print(\"Lilla is a good girl\")\n",
    "    \n",
    "lilla()\n",
    "\n",
    "def shella():\n",
    "    print(\"shella is a good girl\")\n",
    "    \n",
    "shella()  \n",
    "lilla()  "
   ]
  },
  {
   "cell_type": "markdown",
   "id": "c694b9d4",
   "metadata": {},
   "source": [
    "## How Python executes\n",
    "\n",
    "*entire program is loaded into global frame in the stack*\n",
    "<!-- ![how pyhton executes](./assests/howpythonworks.png) -->"
   ]
  },
  {
   "cell_type": "markdown",
   "id": "f085057c",
   "metadata": {},
   "source": [
    "#### how function is stored in the stack\n",
    "\n",
    "![function in the stack](./assests/functioninstack.png)\n",
    "\n",
    "#### after the function execution the function is removed from the stack\n",
    "![function removed from the stack](./assests/functionunloadedafterexecution.png)\n",
    "\n",
    "\n"
   ]
  },
  {
   "cell_type": "markdown",
   "id": "b6657be2",
   "metadata": {},
   "source": [
    "#### 01. WAP to create a function which prints product of the three numbers!!!"
   ]
  },
  {
   "cell_type": "code",
   "execution_count": 1,
   "id": "232c357d",
   "metadata": {},
   "outputs": [
    {
     "name": "stdout",
     "output_type": "stream",
     "text": [
      "600\n"
     ]
    }
   ],
   "source": [
    "def prod():\n",
    "    a= 10\n",
    "    b = 20\n",
    "    c = 3\n",
    "    print(a*b*c)\n",
    "prod()"
   ]
  },
  {
   "cell_type": "markdown",
   "id": "2038f785",
   "metadata": {},
   "source": [
    "#### 02. WAP which checks the given number is even or odd"
   ]
  },
  {
   "cell_type": "code",
   "execution_count": 3,
   "id": "e8d39970",
   "metadata": {},
   "outputs": [
    {
     "name": "stdout",
     "output_type": "stream",
     "text": [
      "Even\n"
     ]
    }
   ],
   "source": [
    "num = int(input())\n",
    "def isEven():\n",
    "    if(num%2 == 0):\n",
    "        print(\"Even\")\n",
    "    else:\n",
    "        print(\"odd\")\n",
    "\n",
    "isEven()"
   ]
  },
  {
   "cell_type": "markdown",
   "id": "8f879a8b",
   "metadata": {},
   "source": [
    "#### 03. WAP for below req, create a function which prints the series of numbers from 1 - n "
   ]
  },
  {
   "cell_type": "code",
   "execution_count": 6,
   "id": "cdf04add",
   "metadata": {},
   "outputs": [
    {
     "name": "stdout",
     "output_type": "stream",
     "text": [
      "1 2 3 4 5 6 7 8 9 10 "
     ]
    }
   ],
   "source": [
    "\n",
    "def genrateSeries():\n",
    "    num = int(input(\"Enter a number: \"))\n",
    "    for i in range(1, num+1):\n",
    "        print(i, end=\" \")\n",
    "        \n",
    "genrateSeries()\n",
    "        "
   ]
  },
  {
   "cell_type": "markdown",
   "id": "8c1fe8d2",
   "metadata": {},
   "source": [
    "#### 04. WAF that checks is the given number is prime"
   ]
  },
  {
   "cell_type": "code",
   "execution_count": null,
   "id": "5d160f1f",
   "metadata": {},
   "outputs": [
    {
     "name": "stdout",
     "output_type": "stream",
     "text": [
      "Number is prime\n"
     ]
    }
   ],
   "source": [
    "\n",
    "def check_prime():\n",
    "    num = int(input(\"Enter a number: \"))\n",
    "    i=1\n",
    "    count = 0\n",
    "    while i <= num:\n",
    "        if num % i == 0:\n",
    "            count +=1\n",
    "        i+=1\n",
    "    if count == 2 :\n",
    "        print(\"Number is prime\")\n",
    "    else:\n",
    "        print(\"Not Prime\")\n",
    "\n",
    "check_prime()"
   ]
  },
  {
   "cell_type": "markdown",
   "id": "3e3302d3",
   "metadata": {},
   "source": [
    "#### 05. WAF which reverses the given string!!!"
   ]
  },
  {
   "cell_type": "code",
   "execution_count": 7,
   "id": "d5a4d042",
   "metadata": {},
   "outputs": [
    {
     "name": "stdout",
     "output_type": "stream",
     "text": [
      "ljk\n"
     ]
    }
   ],
   "source": [
    "def reverseString():\n",
    "    str = input()\n",
    "    revstr = str[::-1]\n",
    "    print(revstr)\n",
    "\n",
    "reverseString()"
   ]
  },
  {
   "cell_type": "markdown",
   "id": "7d1dd415",
   "metadata": {},
   "source": [
    "#### 06. WAF which reverses the given number"
   ]
  },
  {
   "cell_type": "code",
   "execution_count": 9,
   "id": "f8644663",
   "metadata": {},
   "outputs": [
    {
     "name": "stdout",
     "output_type": "stream",
     "text": [
      "987654321\n"
     ]
    }
   ],
   "source": [
    "def reverseNumber():\n",
    "    num = int(input())\n",
    "    rev = 0\n",
    "    while num != 0:\n",
    "        digit = num % 10\n",
    "        rev = rev*10 + digit\n",
    "        num = num // 10\n",
    "    print(rev)\n",
    "    \n",
    "reverseNumber()"
   ]
  },
  {
   "cell_type": "markdown",
   "id": "8f8a570d",
   "metadata": {},
   "source": [
    "#### 07. WAF which prints sum of the elements from the given list!!! "
   ]
  },
  {
   "cell_type": "code",
   "execution_count": 10,
   "id": "9e589573",
   "metadata": {},
   "outputs": [
    {
     "name": "stdout",
     "output_type": "stream",
     "text": [
      "10\n"
     ]
    }
   ],
   "source": [
    "def sum_of_elements():\n",
    "    list = [1,2,3,4]\n",
    "    sum = 0\n",
    "    for i in list:\n",
    "        sum += i\n",
    "        \n",
    "    print(sum)\n",
    "    \n",
    "sum_of_elements()"
   ]
  },
  {
   "cell_type": "markdown",
   "id": "842370a2",
   "metadata": {},
   "source": [
    "#### 08. WAF which prints factorial of the given number"
   ]
  },
  {
   "cell_type": "code",
   "execution_count": 14,
   "id": "c427479f",
   "metadata": {},
   "outputs": [
    {
     "name": "stdout",
     "output_type": "stream",
     "text": [
      "120\n"
     ]
    }
   ],
   "source": [
    "def print_factorial():\n",
    "    num = int(input())\n",
    "    fact = 1\n",
    "    for i in range(1,num+1):\n",
    "        fact *= i\n",
    "    print(fact)\n",
    "    \n",
    "print_factorial()"
   ]
  },
  {
   "cell_type": "markdown",
   "id": "142a83de",
   "metadata": {},
   "source": [
    "#### 09. WAF which print max digit from a given numer"
   ]
  },
  {
   "cell_type": "code",
   "execution_count": 15,
   "id": "a98ed964",
   "metadata": {},
   "outputs": [
    {
     "name": "stdout",
     "output_type": "stream",
     "text": [
      "Max :  6\n"
     ]
    }
   ],
   "source": [
    "def print_max_digit():\n",
    "    num = int(input())\n",
    "    \n",
    "    max = 0\n",
    "    while num !=0 :\n",
    "        digit = num % 10\n",
    "        if digit > max:\n",
    "            max = digit\n",
    "        num = num // 10\n",
    "    print(\"Max : \", max)\n",
    "    \n",
    "print_max_digit()"
   ]
  },
  {
   "cell_type": "markdown",
   "id": "ed0d4c02",
   "metadata": {},
   "source": [
    "## <font color=#24d4b1>TYPES OF FUNCTION </font>\n",
    "\n",
    "*There are two types `static` - whose result is always same and `dynamic` - whose result changes from from call to another*\n",
    "#### STATIC EXAMPLE\n",
    "```python\n",
    "def sum():\n",
    "    a= 10\n",
    "    b= 20\n",
    "    print(a+b)\n",
    "```\n",
    "\n",
    "*In order to make a function dynamic we have to define functions with `arguments`*\n",
    "- `arguments` - these are the inputs given to the function to perfrom task (also called paramaters)\n",
    "\n",
    "*and to call these dynamic function we have to pass the arguments from the `function call`*\n",
    "#### <font color=#ffd000>Syntax</font>\n",
    "```python\n",
    "#first line of the function declaration is also called the function signature\n",
    "def function_name(varname1, varname2, ---- varname n): #these are the formal argument\n",
    "    statement 01 ----+\n",
    "    statement 02     |\n",
    "    -                |    Funtion body / implementation\n",
    "    -                |\n",
    "    -                |\n",
    "    statement n  ----+\n",
    "\n",
    "#Function Call\n",
    "function_name(value1, value2 --- value n) # these are the Actual Arguments\n",
    "```\n",
    "\n",
    "\n",
    "\n",
    "#### DYNAMIC EXAMPLE\n",
    "```python\n",
    "def sum(n1,n2):\n",
    "    print(n1+n2)\n",
    "\n",
    "sum(1,2)\n",
    "sum(3,10)\n",
    "```"
   ]
  },
  {
   "cell_type": "markdown",
   "id": "0b2ed786",
   "metadata": {},
   "source": [
    "#### Convert all the above programs to dynamic functions"
   ]
  },
  {
   "cell_type": "code",
   "execution_count": 4,
   "id": "e3dbff82",
   "metadata": {},
   "outputs": [
    {
     "name": "stdout",
     "output_type": "stream",
     "text": [
      "6\n",
      "100\n"
     ]
    }
   ],
   "source": [
    "# 01. WAP to create a function which prints product of the three numbers!!!\n",
    "def prod(a,b,c):\n",
    "    print(a*b*c)\n",
    "\n",
    "prod(1,2,3)\n",
    "prod(2,5,10)"
   ]
  },
  {
   "cell_type": "code",
   "execution_count": 3,
   "id": "61aceb1f",
   "metadata": {},
   "outputs": [
    {
     "name": "stdout",
     "output_type": "stream",
     "text": [
      "Even\n",
      "odd\n"
     ]
    }
   ],
   "source": [
    "# 02. WAP which checks the given number is even or odd\n",
    "def isEven(num):\n",
    "    if(num%2 == 0):\n",
    "        print(\"Even\")\n",
    "    else:\n",
    "        print(\"odd\")\n",
    "\n",
    "isEven(12)\n",
    "isEven(7)"
   ]
  },
  {
   "cell_type": "code",
   "execution_count": 7,
   "id": "cb51f7bb",
   "metadata": {},
   "outputs": [
    {
     "name": "stdout",
     "output_type": "stream",
     "text": [
      "1 2 3 4 5 6 7 8 9 10 \n",
      "1 2 3 4 5 6 7 8 9 10 11 12 13 14 15 16 17 18 19 20 \n"
     ]
    }
   ],
   "source": [
    "# 03. WAP for below req, create a function which prints the series of numbers from 1 - n \n",
    "\n",
    "def genrateSeries(num):\n",
    "    for i in range(1, num+1):\n",
    "        print(i, end=\" \")\n",
    "    print()\n",
    "        \n",
    "genrateSeries(10)\n",
    "genrateSeries(20)\n",
    "        "
   ]
  },
  {
   "cell_type": "code",
   "execution_count": 8,
   "id": "9728c72d",
   "metadata": {},
   "outputs": [
    {
     "name": "stdout",
     "output_type": "stream",
     "text": [
      "Not Prime\n",
      "Number is prime\n"
     ]
    }
   ],
   "source": [
    "# 04. WAF that checks is the given number is prime\n",
    "def check_prime(num):\n",
    "    i=1\n",
    "    count = 0\n",
    "    while i <= num:\n",
    "        if num % i == 0:\n",
    "            count +=1\n",
    "        i+=1\n",
    "    if count == 2 :\n",
    "        print(\"Number is prime\")\n",
    "    else:\n",
    "        print(\"Not Prime\")\n",
    "\n",
    "check_prime(18)\n",
    "check_prime(11)"
   ]
  },
  {
   "cell_type": "code",
   "execution_count": 9,
   "id": "f1653310",
   "metadata": {},
   "outputs": [
    {
     "name": "stdout",
     "output_type": "stream",
     "text": [
      "olleH\n",
      "dlroW olleH\n"
     ]
    }
   ],
   "source": [
    "# 05. WAF which reverses the given string!!!\n",
    "def reverseString(str):\n",
    "    revstr = str[::-1]\n",
    "    print(revstr)\n",
    "\n",
    "reverseString(\"Hello\")\n",
    "reverseString(\"Hello World\")"
   ]
  },
  {
   "cell_type": "markdown",
   "id": "8c9817c1",
   "metadata": {},
   "source": [
    "## <font color=#24d4b1>FUNCTIONS WITH REURN TYPES</font>\n",
    "The process of creatng a function in such a way that functions will send a value from its implemntaion to outside of the function\n",
    "\n",
    "\n",
    "`return` : \n",
    "- is used to exit from the current function block.\n",
    "- it will also help us to send value from the block to the function block.\n",
    "- if their is no return in a function, by default function returns `none`."
   ]
  },
  {
   "cell_type": "code",
   "execution_count": 1,
   "id": "e5db5477",
   "metadata": {},
   "outputs": [
    {
     "name": "stdout",
     "output_type": "stream",
     "text": [
      "True\n",
      "<function hello at 0x7f4f89a9c540>\n"
     ]
    }
   ],
   "source": [
    "def hello():\n",
    "    return True\n",
    "\n",
    "print(hello())\n",
    "print(hello)"
   ]
  },
  {
   "cell_type": "markdown",
   "id": "25f4d4d6",
   "metadata": {},
   "source": [
    "#### 10. WAF with two arguments which returns sum of the two numbers"
   ]
  },
  {
   "cell_type": "code",
   "execution_count": 2,
   "id": "14400a8c",
   "metadata": {},
   "outputs": [
    {
     "name": "stdout",
     "output_type": "stream",
     "text": [
      "30\n",
      "35\n",
      "130\n"
     ]
    }
   ],
   "source": [
    "def sum_of_two_numbers(num1, num2):\n",
    "    return num1 + num2\n",
    "\n",
    "\n",
    "print(sum_of_two_numbers(10,20))\n",
    "print(sum_of_two_numbers(15,20))\n",
    "print(sum_of_two_numbers(100,30))"
   ]
  },
  {
   "cell_type": "markdown",
   "id": "f5613cb9",
   "metadata": {},
   "source": [
    "#### 11. wap to check if the given number is MEGA-PRIME (if number is  prime and each digit is prime )"
   ]
  },
  {
   "cell_type": "code",
   "execution_count": null,
   "id": "7475eacf",
   "metadata": {},
   "outputs": [],
   "source": [
    "# wap to check if the given number is prime or not, if prime check each digit is prime or not\n",
    "\n",
    "def check_prime(num):\n",
    "    count = 0\n",
    "    for i in range(1,num+1):\n",
    "        if num%i == 0:\n",
    "            count += 1\n",
    "    return True if count == 2 else False\n",
    "\n",
    "num = int(input())\n",
    "\n",
    "isnumPrime= check_prime(num)\n",
    "\n",
    "\n",
    "isAllPrime = True\n",
    "if isnumPrime:\n",
    "    print(\"Given Number is Prime\")\n",
    "    while num > 0:\n",
    "        if not check_prime(num%10):\n",
    "            isAllPrime = False\n",
    "        num = num // 10\n",
    "\n",
    "    if isAllPrime:\n",
    "        print(\"ALL digits are prime\")\n",
    "        print(\"MEGA PRIME NUMBER\")\n",
    "    else:\n",
    "        print(\"ALL digits are not Prime\")\n",
    "else:\n",
    "    print(\"Number is not prime\")"
   ]
  },
  {
   "cell_type": "markdown",
   "id": "0ee52e88",
   "metadata": {},
   "source": [
    "#### 12. WAP to print prime-numbers from 1 - 50."
   ]
  },
  {
   "cell_type": "code",
   "execution_count": 19,
   "id": "c6968bff",
   "metadata": {},
   "outputs": [
    {
     "name": "stdout",
     "output_type": "stream",
     "text": [
      "328\n"
     ]
    }
   ],
   "source": [
    "def isPrime(num):\n",
    "    count = 0\n",
    "    for i in range(1, num+1):\n",
    "        if num%i==0:\n",
    "            count += 1\n",
    "    return True if count == 2 else False\n",
    "sum = 0\n",
    "for i in range(1,51):\n",
    "    sum += i if isPrime(i) else 0\n",
    "print(sum)"
   ]
  },
  {
   "cell_type": "markdown",
   "id": "a75eee4f",
   "metadata": {},
   "source": [
    "#### 13. WAP sum of perfect numbers(sum of divisor == number) from 1 - 50"
   ]
  },
  {
   "cell_type": "code",
   "execution_count": null,
   "id": "1a148a57",
   "metadata": {},
   "outputs": [
    {
     "name": "stdout",
     "output_type": "stream",
     "text": [
      "34\n"
     ]
    }
   ],
   "source": [
    "def is_perfect(num):\n",
    "    sum = 0\n",
    "    for i in range(1,num):\n",
    "        if num % i ==0:\n",
    "            sum +=i\n",
    "    return sum == num\n",
    "\n",
    "perfectSum = 0\n",
    "\n",
    "for i in range(1,51):\n",
    "    if is_perfect(i):\n",
    "        perfectSum +=i\n",
    "\n",
    "print(perfectSum)"
   ]
  },
  {
   "cell_type": "markdown",
   "id": "f1b6880d",
   "metadata": {},
   "source": [
    "#### 14. print nth prime number"
   ]
  },
  {
   "cell_type": "code",
   "execution_count": 31,
   "id": "a3c02349",
   "metadata": {},
   "outputs": [
    {
     "name": "stdout",
     "output_type": "stream",
     "text": [
      "541\n"
     ]
    }
   ],
   "source": [
    "nth= int(input())\n",
    "\n",
    "count = 0\n",
    "i=1\n",
    "while True:\n",
    "    if (isPrime(i)):\n",
    "        count +=1\n",
    "    if count == nth:\n",
    "        print(i)\n",
    "        break\n",
    "    i +=1"
   ]
  },
  {
   "cell_type": "code",
   "execution_count": null,
   "id": "894f7eb4",
   "metadata": {},
   "outputs": [],
   "source": []
  }
 ],
 "metadata": {
  "kernelspec": {
   "display_name": "Python 3",
   "language": "python",
   "name": "python3"
  },
  "language_info": {
   "codemirror_mode": {
    "name": "ipython",
    "version": 3
   },
   "file_extension": ".py",
   "mimetype": "text/x-python",
   "name": "python",
   "nbconvert_exporter": "python",
   "pygments_lexer": "ipython3",
   "version": "3.13.5"
  }
 },
 "nbformat": 4,
 "nbformat_minor": 5
}
