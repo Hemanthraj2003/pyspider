{
 "cells": [
  {
   "cell_type": "markdown",
   "id": "4e3f344a",
   "metadata": {},
   "source": [
    "# <font color=#24d4b1 size=18>Functions</font>\n",
    "\n",
    "A function is a block or area that stores a certain set of statements (lines of code) to perform a specific task.\n",
    "\n",
    "## Why do we need a function?\n",
    "\n",
    "Functions are used to store statements once, allowing them to be reused an \"n\" number of times. This promotes code reusability and reduces redundancy.\n",
    "\n",
    "## How to create a function?\n",
    "\n",
    "You create a function using the `def` keyword, followed by the function name, parentheses `()`, and a colon `:`. The code block inside the function is indented.\n",
    "\n",
    "```python\n",
    "def function_name():\n",
    "    statement_1\n",
    "    statement_2\n",
    "    # ... more statements ..."
   ]
  },
  {
   "cell_type": "code",
   "execution_count": null,
   "id": "1e11dc21",
   "metadata": {},
   "outputs": [],
   "source": [
    "def "
   ]
  }
 ],
 "metadata": {
  "language_info": {
   "name": "python"
  }
 },
 "nbformat": 4,
 "nbformat_minor": 5
}
