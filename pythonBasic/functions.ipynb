{
 "cells": [
  {
   "cell_type": "markdown",
   "id": "4e3f344a",
   "metadata": {},
   "source": [
    "# <font color=#24d4b1 size=18>Functions</font>\n",
    "\n",
    "A function is a block or area that stores a certain set of statements (lines of code) to perform a specific task.\n",
    "\n",
    "## Why do we need a function?\n",
    "\n",
    "Functions are used to store statements once, allowing them to be reused an \"n\" number of times. This promotes code reusability and reduces redundancy.\n",
    "\n",
    "## How to create a function?\n",
    "\n",
    "You create a function using the `def` keyword, followed by the function name, parentheses `()`, and a colon `:`. The code block inside the function is indented.\n",
    "\n",
    "```python\n",
    "def function_name():\n",
    "    statement_1\n",
    "    statement_2\n",
    "    # ... more statements ..."
   ]
  },
  {
   "cell_type": "markdown",
   "id": "cbbbc595",
   "metadata": {},
   "source": [
    "### Function call\n",
    "\n",
    "- It is a statement used to call the instructions which have been stored, syntax : `functionName()`\n",
    "- we can call any function for n-number of times"
   ]
  },
  {
   "cell_type": "code",
   "execution_count": 5,
   "id": "1e11dc21",
   "metadata": {},
   "outputs": [
    {
     "name": "stdout",
     "output_type": "stream",
     "text": [
      "sheela is a good girl\n",
      "sheela is a good girl\n",
      "sheela is a good girl\n",
      "sheela is a good girl\n"
     ]
    }
   ],
   "source": [
    "#example of function...\n",
    "def sheela():\n",
    "    print(\"sheela is a good girl\") \n",
    "\n",
    "sheela()\n",
    "sheela()\n",
    "sheela()\n",
    "sheela()\n"
   ]
  },
  {
   "cell_type": "code",
   "execution_count": 7,
   "id": "e8dde7db",
   "metadata": {},
   "outputs": [
    {
     "name": "stdout",
     "output_type": "stream",
     "text": [
      "Lilla is a good girl\n",
      "shella is a good girl\n",
      "Lilla is a good girl\n"
     ]
    }
   ],
   "source": [
    "# Example 02\n",
    "def lilla():\n",
    "    print(\"Lilla is a good girl\")\n",
    "    \n",
    "lilla()\n",
    "\n",
    "def shella():\n",
    "    print(\"shella is a good girl\")\n",
    "    \n",
    "shella()  \n",
    "lilla()  "
   ]
  },
  {
   "cell_type": "code",
   "execution_count": null,
   "id": "232c357d",
   "metadata": {},
   "outputs": [],
   "source": []
  }
 ],
 "metadata": {
  "kernelspec": {
   "display_name": "Python 3",
   "language": "python",
   "name": "python3"
  },
  "language_info": {
   "codemirror_mode": {
    "name": "ipython",
    "version": 3
   },
   "file_extension": ".py",
   "mimetype": "text/x-python",
   "name": "python",
   "nbconvert_exporter": "python",
   "pygments_lexer": "ipython3",
   "version": "3.13.5"
  }
 },
 "nbformat": 4,
 "nbformat_minor": 5
}
