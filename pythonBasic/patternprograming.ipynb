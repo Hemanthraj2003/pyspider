{
 "cells": [
  {
   "cell_type": "markdown",
   "id": "abbfbb00",
   "metadata": {},
   "source": [
    "## <font color=#ffd000>Pattern Programing</font>\n",
    "- pattern programs are written using nested Loops\n",
    "\n",
    "### <font color=#24d4b1>Nested Loops</font>\n",
    "- loops inside another loops is called `nested loops`\n",
    "\n",
    "#### <font color=#24d4b1>Nested Loops Structure</font>\n",
    "```python\n",
    "while CONDITION: # outter loops\n",
    "    Statement 01\n",
    "    Statement 02\n",
    "    |\n",
    "    |\n",
    "    while CONDITION: # inner loop / nested loop\n",
    "        Statement 01\n",
    "        Statement 02\n",
    "        |\n",
    "        |\n",
    "    |\n",
    "    |\n",
    "    Statement n\n",
    "```\n"
   ]
  },
  {
   "cell_type": "markdown",
   "id": "9284004c",
   "metadata": {},
   "source": [
    "##### 01. WAP to print 3*3 star matrix"
   ]
  },
  {
   "cell_type": "code",
   "execution_count": 3,
   "id": "f64c0071",
   "metadata": {},
   "outputs": [
    {
     "name": "stdout",
     "output_type": "stream",
     "text": [
      "* * * \n",
      "* * * \n",
      "* * * \n"
     ]
    }
   ],
   "source": [
    "row = 1\n",
    "\n",
    "while row <= 3:\n",
    "    col = 1\n",
    "    while col <=3:\n",
    "        print(\"*\", end=\" \")\n",
    "        col +=1\n",
    "    print()\n",
    "    row += 1"
   ]
  },
  {
   "cell_type": "markdown",
   "id": "2f97c63a",
   "metadata": {},
   "source": [
    "##### 02. WAP to print 5*5 star matrix"
   ]
  },
  {
   "cell_type": "code",
   "execution_count": 4,
   "id": "eaa6a891",
   "metadata": {},
   "outputs": [
    {
     "name": "stdout",
     "output_type": "stream",
     "text": [
      "* * * * * \n",
      "* * * * * \n",
      "* * * * * \n",
      "* * * * * \n",
      "* * * * * \n"
     ]
    }
   ],
   "source": [
    "row = 1\n",
    "while row <= 5:\n",
    "    col = 1\n",
    "    while col <=5:\n",
    "        print(\"*\", end=\" \")\n",
    "        col +=1\n",
    "    print()\n",
    "    row += 1"
   ]
  },
  {
   "cell_type": "markdown",
   "id": "cd0f5c4f",
   "metadata": {},
   "source": [
    "##### 03. WAP to print 3*5 star matrix"
   ]
  },
  {
   "cell_type": "code",
   "execution_count": 5,
   "id": "1e17d436",
   "metadata": {},
   "outputs": [
    {
     "name": "stdout",
     "output_type": "stream",
     "text": [
      "* * * \n",
      "* * * \n",
      "* * * \n",
      "* * * \n",
      "* * * \n"
     ]
    }
   ],
   "source": [
    "row = 1\n",
    "while row <= 5:\n",
    "    col = 1\n",
    "    while col <=3:\n",
    "        print(\"*\", end=\" \")\n",
    "        col +=1\n",
    "    print()\n",
    "    row += 1"
   ]
  },
  {
   "cell_type": "markdown",
   "id": "5b500b5b",
   "metadata": {},
   "source": [
    "##### 04. WAP to print 5*3 star matrix"
   ]
  },
  {
   "cell_type": "code",
   "execution_count": 6,
   "id": "3a946472",
   "metadata": {},
   "outputs": [
    {
     "name": "stdout",
     "output_type": "stream",
     "text": [
      "* * * * * \n",
      "* * * * * \n",
      "* * * * * \n"
     ]
    }
   ],
   "source": [
    "row = 1\n",
    "while row <= 3:\n",
    "    col = 1\n",
    "    while col <=5:\n",
    "        print(\"*\", end=\" \")\n",
    "        col +=1\n",
    "    print()\n",
    "    row += 1"
   ]
  },
  {
   "cell_type": "markdown",
   "id": "086984ff",
   "metadata": {},
   "source": [
    "##### 05. WAP to print 3*3 number matrix"
   ]
  },
  {
   "cell_type": "code",
   "execution_count": 7,
   "id": "3ea72c3d",
   "metadata": {},
   "outputs": [
    {
     "name": "stdout",
     "output_type": "stream",
     "text": [
      "1 2 3 \n",
      "4 5 6 \n",
      "7 8 9 \n"
     ]
    }
   ],
   "source": [
    "row = 1\n",
    "num = 1\n",
    "while row <=3:\n",
    "    col = 1\n",
    "    while col <=3:\n",
    "        print(num, end=\" \")\n",
    "        num += 1\n",
    "        col += 1\n",
    "    print()\n",
    "    row += 1"
   ]
  },
  {
   "cell_type": "markdown",
   "id": "fa98450e",
   "metadata": {},
   "source": [
    "##### 06. WAP to print 5*5 Alpha matrix"
   ]
  },
  {
   "cell_type": "code",
   "execution_count": 10,
   "id": "7a926fe2",
   "metadata": {},
   "outputs": [
    {
     "name": "stdout",
     "output_type": "stream",
     "text": [
      "A B C D E \n",
      "F G H I J \n",
      "K L M N O \n",
      "P Q R S T \n",
      "U V W X Y \n"
     ]
    }
   ],
   "source": [
    "row  = 1\n",
    "asciiValue = 65\n",
    "while row <=5:\n",
    "    col = 1\n",
    "    while col <=5:\n",
    "        print(chr(asciiValue), end=\" \")\n",
    "        asciiValue +=1\n",
    "        col +=1\n",
    "    print()\n",
    "    row+=1"
   ]
  },
  {
   "cell_type": "markdown",
   "id": "24af374b",
   "metadata": {},
   "source": [
    "##### 07. WAP to print 3*3 prime matrix"
   ]
  },
  {
   "cell_type": "code",
   "execution_count": 22,
   "id": "2ec6cfac",
   "metadata": {},
   "outputs": [
    {
     "name": "stdout",
     "output_type": "stream",
     "text": [
      "2\t3\t5\t7\t\n",
      "\n",
      "11\t13\t17\t19\t\n",
      "\n",
      "23\t29\t31\t37\t\n",
      "\n",
      "41\t43\t47\t53\t\n",
      "\n"
     ]
    }
   ],
   "source": [
    "row = 1\n",
    "currentPrime = 2\n",
    "\n",
    "def checkPrime(num):\n",
    "    i=1\n",
    "    count =0\n",
    "    while i <= currentPrime:\n",
    "        if currentPrime%i == 0:\n",
    "            count +=1\n",
    "        i +=1\n",
    "    if count == 2:\n",
    "        return True\n",
    "    return False\n",
    "    \n",
    "\n",
    "while row <=4 :\n",
    "    col =1\n",
    "    while col <=4:\n",
    "        print(currentPrime, end=\"\\t\")\n",
    "        col += 1\n",
    "        while True:\n",
    "            currentPrime +=1\n",
    "            if checkPrime(currentPrime):\n",
    "                break\n",
    "    print(end=\"\\n\\n\")\n",
    "    row +=1"
   ]
  },
  {
   "cell_type": "markdown",
   "id": "e6d918f6",
   "metadata": {},
   "source": [
    "##### 08. WAP to print 3*3 alternative capital Aplhas matrix"
   ]
  },
  {
   "cell_type": "code",
   "execution_count": 23,
   "id": "bd16d491",
   "metadata": {},
   "outputs": [
    {
     "name": "stdout",
     "output_type": "stream",
     "text": [
      "A C E \n",
      "G I K \n",
      "M O Q \n"
     ]
    }
   ],
   "source": [
    "row = 1\n",
    "asciiValue = 65\n",
    "while row <=3:\n",
    "    col = 1\n",
    "    while col <=3:\n",
    "        print(chr(asciiValue), end=\" \")\n",
    "        asciiValue +=2\n",
    "        col +=1\n",
    "    print()\n",
    "    row+=1"
   ]
  },
  {
   "cell_type": "markdown",
   "id": "1fd11eb4",
   "metadata": {},
   "source": [
    "##### 09. WAP to print 4*4 alpha matrix"
   ]
  },
  {
   "cell_type": "code",
   "execution_count": 26,
   "id": "3b8f9163",
   "metadata": {},
   "outputs": [
    {
     "name": "stdout",
     "output_type": "stream",
     "text": [
      "a\tb\tc\td\t\n",
      "\n",
      "e\tf\tg\th\t\n",
      "\n",
      "i\tj\tk\tl\t\n",
      "\n",
      "m\tn\to\tp\t\n",
      "\n"
     ]
    }
   ],
   "source": [
    "row = 1\n",
    "asciiValue = 97\n",
    "while row <=4:\n",
    "    col = 1\n",
    "    while col <=4:\n",
    "        print(chr(asciiValue), end=\"\\t\")\n",
    "        asciiValue +=1\n",
    "        col +=1\n",
    "    print(end=\"\\n\\n\")\n",
    "    row+=1"
   ]
  },
  {
   "cell_type": "markdown",
   "id": "dd6c2298",
   "metadata": {},
   "source": [
    "#### 10. WAP to print A using ch A"
   ]
  },
  {
   "cell_type": "code",
   "execution_count": 9,
   "id": "d63fa656",
   "metadata": {},
   "outputs": [
    {
     "name": "stdout",
     "output_type": "stream",
     "text": [
      "  A A A   \n",
      "A       A \n",
      "A A A A A \n",
      "A       A \n",
      "A       A \n"
     ]
    }
   ],
   "source": [
    "i = 1\n",
    "\n",
    "while i <=5:\n",
    "    j = 1\n",
    "    while j <=5:\n",
    "        if (i==1 and j==1) or (i==1 and j==5):\n",
    "            print(end=\"  \")\n",
    "        elif (i==3):\n",
    "            print(\"A\", end=\" \")    \n",
    "            \n",
    "        elif j==1 or i==1 or j==5:\n",
    "            print(\"A\", end=\" \")\n",
    "        else:\n",
    "            print(end=\"  \")\n",
    "        j +=1\n",
    "    print()\n",
    "    i +=1\n",
    "\n"
   ]
  },
  {
   "cell_type": "markdown",
   "id": "90d1c56e",
   "metadata": {},
   "source": [
    "#### 11. WAP to print \"HAPPY INDEPENDENCE DAY\" inside 5*5  matrices"
   ]
  },
  {
   "cell_type": "code",
   "execution_count": 36,
   "id": "763bf5be",
   "metadata": {},
   "outputs": [
    {
     "name": "stdout",
     "output_type": "stream",
     "text": [
      "H       H     A A A     P P P P P   P P P P P   Y       Y        I I I I I   N       N   N N N N   \n",
      "H       H   A       A   P       P   P       P   Y       Y            I       N N     N   N       N \n",
      "H H H H H   A A A A A   P P P P P   P P P P P   Y Y Y Y Y            I       N   N   N   N       N \n",
      "H       H   A       A   P           P           Y                    I       N     N N   N       N \n",
      "H       H   A       A   P           P           Y                I I I I I   N       N   N N N N   \n"
     ]
    }
   ],
   "source": [
    "i=1\n",
    "\n",
    "while i<=5:\n",
    "    j=1\n",
    "    # H - matrix\n",
    "    while j<=5:\n",
    "        if j==1 or j==5 or i==3:\n",
    "            print(\"H\",end=' ') \n",
    "        else:\n",
    "            print(\" \", end=\" \")\n",
    "        j+=1\n",
    "    \n",
    "    # A - Matrix\n",
    "    print(end=\"  \")\n",
    "    j = 1\n",
    "    while j <=5:\n",
    "        if (i==1 and j==1) or (i==1 and j==5):\n",
    "            print(end=\"  \")\n",
    "        elif (i==3):\n",
    "            print(\"A\", end=\" \")    \n",
    "            \n",
    "        elif j==1 or i==1 or j==5:\n",
    "            print(\"A\", end=\" \")\n",
    "        else:\n",
    "            print(end=\"  \")\n",
    "        j +=1\n",
    "        \n",
    "    # p - matrix\n",
    "    print(end=\"  \")\n",
    "    j=1\n",
    "    while j<=5:\n",
    "        if j==1 or i==1 or i==3 or (j==5 and i==2):\n",
    "            print(\"P\", end=\" \")    \n",
    "        else:\n",
    "            print(\" \", end=\" \")\n",
    "        j+=1\n",
    "        \n",
    "    # p - matrix\n",
    "    print(end=\"  \")\n",
    "    j=1\n",
    "    while j<=5:\n",
    "        if j==1 or i==1 or i==3 or (j==5 and i==2):\n",
    "            print(\"P\", end=\" \")    \n",
    "        else:\n",
    "            print(\" \", end=\" \")\n",
    "        j+=1\n",
    "        \n",
    "    # y - matrix\n",
    "    print(end=\"  \")\n",
    "    j=1\n",
    "    while j<=5:\n",
    "        if j==1 or i==3 or (i<=3 and j==5):\n",
    "            print(\"Y\", end=\" \")\n",
    "        else:\n",
    "            print(\" \", end=\" \")\n",
    "            \n",
    "        j+=1\n",
    "    \n",
    "    # I- matrix\n",
    "    print(end=\"       \")\n",
    "    j=1\n",
    "    while j<=5:\n",
    "        if i==1 or i==5 or j==3:\n",
    "            print(\"I\", end=\" \")\n",
    "        else:\n",
    "            print(\" \", end=\" \")\n",
    "        j+=1\n",
    "        \n",
    "    # N- matrix\n",
    "    print(end=\"  \")\n",
    "    j=1\n",
    "    while j<=5:\n",
    "        if j==1 or j==5 or i==j:\n",
    "            print(\"N\", end=\" \")\n",
    "        else:\n",
    "            print(\" \", end=\" \")   \n",
    "        j+=1\n",
    "        \n",
    "        \n",
    "    # D- matrix\n",
    "    print(end=\"  \")\n",
    "    j=1\n",
    "    while j<=5:\n",
    "        if i==1 and j==5 or i==5 and j==5:\n",
    "            print(\" \", end=\" \")   \n",
    "            \n",
    "        elif j==1 or j==5 or i==5 or i==1:\n",
    "            print(\"N\", end=\" \")\n",
    "        else:\n",
    "            print(\" \", end=\" \")   \n",
    "        j+=1\n",
    "    \n",
    "    print()\n",
    "    i+=1"
   ]
  },
  {
   "cell_type": "code",
   "execution_count": null,
   "id": "2c3df2d7",
   "metadata": {},
   "outputs": [],
   "source": []
  },
  {
   "cell_type": "markdown",
   "id": "8bccea7c",
   "metadata": {},
   "source": [
    "#### 12 WAP to print lower diagonal of 5*5 matrix"
   ]
  },
  {
   "cell_type": "code",
   "execution_count": 37,
   "id": "60c6986f",
   "metadata": {},
   "outputs": [
    {
     "name": "stdout",
     "output_type": "stream",
     "text": [
      "* \n",
      "* * \n",
      "* * * \n",
      "* * * * \n"
     ]
    }
   ],
   "source": [
    "for i in range(1,5):\n",
    "    for j in range(1,5):\n",
    "        if j<=i:\n",
    "            print(\"*\",end=' ')\n",
    "        \n",
    "    print()"
   ]
  },
  {
   "cell_type": "markdown",
   "id": "c38b92ad",
   "metadata": {},
   "source": [
    "#### 13 WAP to print lower left diagonal of 5*5 matrix"
   ]
  },
  {
   "cell_type": "code",
   "execution_count": 42,
   "id": "b6898069",
   "metadata": {},
   "outputs": [
    {
     "name": "stdout",
     "output_type": "stream",
     "text": [
      "      * \n",
      "    * * \n",
      "  * * * \n",
      "* * * * \n"
     ]
    }
   ],
   "source": [
    "for i in range(1,5):\n",
    "    for j in range(1,5):\n",
    "        if i+j>=5:\n",
    "            print(\"*\",end=' ')\n",
    "        else:\n",
    "            print(\"  \",end=\"\")\n",
    "        \n",
    "    print()"
   ]
  },
  {
   "cell_type": "code",
   "execution_count": 43,
   "id": "cfe15b14",
   "metadata": {},
   "outputs": [
    {
     "name": "stdout",
     "output_type": "stream",
     "text": [
      "* * * * \n",
      "* * *   \n",
      "* *     \n",
      "*       \n"
     ]
    }
   ],
   "source": [
    "for i in range(1,5):\n",
    "    for j in range(1,5):\n",
    "        if i+j<=5:\n",
    "            print(\"*\",end=' ')\n",
    "        else:\n",
    "            print(\"  \",end=\"\")\n",
    "        \n",
    "    print()"
   ]
  },
  {
   "cell_type": "code",
   "execution_count": null,
   "id": "36ca8bc7",
   "metadata": {},
   "outputs": [
    {
     "name": "stdout",
     "output_type": "stream",
     "text": [
      "    * \n",
      "  * * \n",
      "* * * \n",
      "  * * \n",
      "* * * \n"
     ]
    }
   ],
   "source": [
    "i=1\n",
    "for i in range(1,6):\n",
    "    j=1\n",
    "    for j in range(1,4):\n",
    "        if (i<=3 and i+j >= 4): \n",
    "            print(\"*\",end=' ')\n",
    "        elif(i>3 and i+j>=6):\n",
    "            print(\"*\",end=' ')\n",
    "        else:\n",
    "            print(\" \",end=' ')\n",
    "    print()"
   ]
  },
  {
   "cell_type": "code",
   "execution_count": 89,
   "id": "9434e1f6",
   "metadata": {},
   "outputs": [
    {
     "name": "stdout",
     "output_type": "stream",
     "text": [
      "1                 1 \n",
      "2 2             2 2 \n",
      "3 3 3         3 3 3 \n",
      "4 4 4 4     4 4 4 4 \n",
      "5 5 5 5 5 5 5 5 5 5 \n",
      "  1 1 1 1 1 1 1 1   \n",
      "    2 2 2 2 2 2     \n",
      "      3 3 3 3       \n",
      "        4 4         \n",
      "                    \n",
      "                    \n",
      "        4 4         \n",
      "      3 3 3 3       \n",
      "    2 2 2 2 2 2     \n",
      "  1 1 1 1 1 1 1 1   \n",
      "5 5 5 5 5 5 5 5 5 5 \n",
      "4 4 4 4     4 4 4 4 \n",
      "3 3 3         3 3 3 \n",
      "2 2             2 2 \n",
      "1                 1 \n"
     ]
    }
   ],
   "source": [
    "n=5\n",
    "\n",
    "for i in range(1,n+1):\n",
    "    print((f\"{i} \")*(i)+\"  \"*(n-i) + \"  \"*(n-i)+ (f\"{i} \")*i)\n",
    "    \n",
    "\n",
    "\n",
    "for i in range(1,n+1):\n",
    "    print(\"  \"*(i) + (f\"{i} \")*(n-i)+(f\"{i} \")*(n-i)+\"  \"*(i))\n",
    "for i in range(n,0,-1):\n",
    "    print(\"  \"*(i) + (f\"{i} \")*(n-i)+(f\"{i} \")*(n-i)+\"  \"*(i))\n",
    "\n",
    "for i in range(n,0,-1):\n",
    "    print((f\"{i} \")*(i)+\"  \"*(n-i) + \"  \"*(n-i)+ (f\"{i} \")*i)\n",
    "\n",
    "    \n",
    "    \n"
   ]
  },
  {
   "cell_type": "code",
   "execution_count": 43,
   "id": "38707e4a",
   "metadata": {},
   "outputs": [
    {
     "name": "stdout",
     "output_type": "stream",
     "text": [
      "* * * * *   \n",
      "* * * *     \n",
      "* * *       \n",
      "* *         \n",
      "*           \n",
      "* *       \n",
      "* * *     \n",
      "* * * *   \n",
      "* * * * * \n"
     ]
    }
   ],
   "source": [
    "n = 5\n",
    "for  i in range(1,n+1):\n",
    "    print(\"* \"*(n-i+1) + \"  \"*i)\n",
    "for i in range(2,n+1):\n",
    "    print(\"* \"*i + \"  \"*(n-i))"
   ]
  },
  {
   "cell_type": "code",
   "execution_count": null,
   "id": "d5bb71fa",
   "metadata": {},
   "outputs": [
    {
     "name": "stdout",
     "output_type": "stream",
     "text": [
      "        1 \n",
      "      2 0 \n",
      "    2 0 -2 \n",
      "  1 -1 -3 -5 \n"
     ]
    }
   ],
   "source": [
    "n = 4\n",
    "\n",
    "num=4\n",
    "\n",
    "for i in range(1,n+1):\n",
    "    for j in range(0,n+1):\n",
    "        if i+j>4:\n",
    "            print(num - j + i,end=\" \")\n",
    "        else:\n",
    "            print(\"  \",end='')\n",
    "    print()\n",
    "        \n",
    "    "
   ]
  }
 ],
 "metadata": {
  "kernelspec": {
   "display_name": "Python 3",
   "language": "python",
   "name": "python3"
  },
  "language_info": {
   "codemirror_mode": {
    "name": "ipython",
    "version": 3
   },
   "file_extension": ".py",
   "mimetype": "text/x-python",
   "name": "python",
   "nbconvert_exporter": "python",
   "pygments_lexer": "ipython3",
   "version": "3.13.5"
  }
 },
 "nbformat": 4,
 "nbformat_minor": 5
}
