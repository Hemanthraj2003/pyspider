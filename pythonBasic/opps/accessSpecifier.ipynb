{
 "cells": [
  {
   "cell_type": "markdown",
   "id": "2406145d",
   "metadata": {},
   "source": [
    "# <u> ACCESS SPECIFIERS IN PYTHON </u>\n",
    "\n",
    "- In python, access specifiers are not enforced by the language itself, but rather by convention. There are three types of access specifiers commonly used in Python:\n",
    "\n",
    "there are three types of access specifiers commonly used in Python:\n",
    "1. **Public**: Members (attributes and methods) declared as public are accessible from anywhere, both inside and outside the class. By default, all members in Python are public unless specified otherwise.\n",
    "\n",
    "2. **Protected**: Members declared as protected are intended to be accessible only within the class and its subclasses. In Python, this is indicated by a single underscore prefix (e.g., `_variable`). However, this is just a convention and does not enforce access restrictions.\n",
    "\n",
    "3. **Private**: Members declared as private are intended to be accessible only within the class itself. In Python, this is indicated by a double underscore prefix (e.g., `__variable`). This triggers name mangling, which makes it harder (but not impossible) to access the member from outside the class."
   ]
  },
  {
   "cell_type": "markdown",
   "id": "817d1cb9",
   "metadata": {},
   "source": []
  }
 ],
 "metadata": {
  "language_info": {
   "name": "python"
  }
 },
 "nbformat": 4,
 "nbformat_minor": 5
}
