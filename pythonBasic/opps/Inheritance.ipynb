{
 "cells": [
  {
   "cell_type": "markdown",
   "id": "e6a85f44",
   "metadata": {},
   "source": [
    "# <u> Inheritance </U>\n",
    "\n",
    "The process of deriving the members of a class from another class is called inheritance. \n",
    "\n",
    "##### `Super Class`  -\n",
    "The class from which the members are inherited is called the `super class` or `base class` or `parent class`.\n",
    "\n",
    "##### `Sub Class` -\n",
    "The class that inherits the members from the super class is called the `sub class` or `derived class` or `child class`.\n",
    "\n",
    "___"
   ]
  },
  {
   "cell_type": "markdown",
   "id": "6c22ada2",
   "metadata": {},
   "source": [
    "### TYPES OF INHERITANCE\n",
    "\n",
    "1. Single Inheritance\n",
    "\n",
    "2. Multiple Inheritance\n",
    "\n",
    "3. Multilevel Inheritance\n",
    "\n",
    "4. Hierarchical Inheritance\n",
    "\n",
    "5. Hybrid Inheritance\n",
    "\n",
    "___"
   ]
  },
  {
   "cell_type": "markdown",
   "id": "6d38dd46",
   "metadata": {},
   "source": [
    "##### <u> SINGLE LEVEL INHERITANCE </u>\n",
    "\n",
    "The process of deriving the members from a single `super class` to single `sub class` is called is know as single level inheritance.\n",
    "\n",
    "```python\n",
    "class Parent:\n",
    "    def func1(self):\n",
    "        print(\"This function is in parent class.\")  \n",
    "\n",
    "class Child(Parent):\n",
    "    def func2(self):\n",
    "        print(\"This function is in child class.\")\n",
    "\n",
    "object = Child()\n",
    "object.func1()\n",
    "object.func2()\n",
    "```\n",
    "___"
   ]
  },
  {
   "cell_type": "markdown",
   "id": "7e06ca18",
   "metadata": {},
   "source": [
    "#### WAP for below:\n",
    "\n",
    "1. create a class called `person`, with 3 attributes: ID, age, gender.\n",
    "\n",
    "    - create a method called display that displays the attributes of the class.\n",
    "\n",
    "    - create EAT method that prints \"I am eating\", walk method that prints \"I am walking\".\n",
    "\n",
    "2. create a sub class called `Developer`.\n",
    "\n",
    "    - will have properties like designation, salary and type of language known.\n",
    "\n",
    "    - create method called write code and review code in the class `Developer`.\n",
    "\n",
    "3. create object for both the classes and call all the methods respectively."
   ]
  },
  {
   "cell_type": "code",
   "execution_count": null,
   "id": "f7319c14",
   "metadata": {},
   "outputs": [
    {
     "name": "stdout",
     "output_type": "stream",
     "text": [
      "ID: 1001\n",
      "Age: 21\n"
     ]
    }
   ],
   "source": [
    "class Person:\n",
    "    \n",
    "    def __init__(self, ID, age, gender):\n",
    "        self.ID = ID\n",
    "        self.age = age\n",
    "        self.gender = gender\n",
    "        \n",
    "    def eat(self):\n",
    "        print(\"I am Eating\")\n",
    "    \n",
    "    def walk(self):\n",
    "        print(\"I am walking\")\n",
    "        \n",
    "\n",
    "class Developer(Person):\n",
    "    \n",
    "    def __init__(self, ID, age, gender, salary,designation,language):\n",
    "        super().__init__( ID, age, gender)\n",
    "        self.salary = salary\n",
    "        self.designation = designation\n",
    "        self.language = language\n",
    "        \n",
    "    def printInfo(self):\n",
    "        print(f\"ID: {self.ID}\\nAge: {self.age}\")\n",
    "    \n",
    "    def writeCode(self):\n",
    "        print(\"I can write code in \", self.language)\n",
    "    \n",
    "    def reviewCode(self):\n",
    "        print(\"I can review code in \", self.reviewCode)\n",
    "        \n",
    "\n",
    "dev01 = Developer(1001,21,\"male\",100, \"DEV\", \"PYTHON\")\n",
    "dev01.printInfo()"
   ]
  },
  {
   "cell_type": "code",
   "execution_count": 1,
   "id": "544b6b34",
   "metadata": {},
   "outputs": [
    {
     "name": "stdout",
     "output_type": "stream",
     "text": [
      "50\n",
      "70\n"
     ]
    }
   ],
   "source": [
    "class Test:\n",
    "    a= 70\n",
    "\n",
    "\n",
    "class Sample(Test):\n",
    "    a = 50\n",
    "    @classmethod\n",
    "    def m1(cls):\n",
    "        print(cls.a)\n",
    "        print(Test.a)\n",
    "        \n",
    "\n",
    "Sample.m1()"
   ]
  },
  {
   "cell_type": "markdown",
   "id": "99e4d2e6",
   "metadata": {},
   "source": [
    "#### <font color=blue>Methode Overridding</font>\n",
    "\n",
    "The process of changing the implementation of the method from one class to another class with the same name!!\n",
    "\n",
    "#### <font color=blue>Method Chaining </font>\n",
    "\n",
    "The process of calling a method from another method, within the same class or different class\n",
    "\n",
    "`syntax:   className.methodName(reference)   or   super().methodName()`"
   ]
  },
  {
   "cell_type": "markdown",
   "id": "d1798165",
   "metadata": {},
   "source": [
    "#### WAP for below req:\n",
    "\n",
    "1. create a class `BankAcc` with attributes like `accNo` , `accHolderName` and `balance`.\n",
    "    \n",
    "    - create methods to `addBalance`, `withdrawBalance` and `calculateIntrest`\n",
    "\n",
    "2. create a subClass `savingAccount` with attributes like `minBalance`.\n",
    "\n",
    "    - modify the `intrestRate` for the saving account.\n",
    "\n",
    "    - display accountInformation"
   ]
  },
  {
   "cell_type": "code",
   "execution_count": null,
   "id": "66ab9fa2",
   "metadata": {},
   "outputs": [
    {
     "name": "stdout",
     "output_type": "stream",
     "text": [
      "600.0\n",
      "------------------------------------------------------\n",
      "Account Holder Name : Raj\n",
      "Account Number: 25100123456\n",
      "Current Balance: 10500\n",
      "------------------------------------------------------\n",
      "------------------------------------------------------\n",
      "Account Holder Name : Raj\n",
      "Account Number: 25100123456\n",
      "Current Balance: 8200\n",
      "------------------------------------------------------\n"
     ]
    }
   ],
   "source": [
    "class BankAccount:\n",
    "    def __init__(self,account_number,account_holder_name,account_balance):\n",
    "        self.account_number=account_number\n",
    "        self.account_holder_name = account_holder_name\n",
    "        self.account_balance = account_balance\n",
    "    \n",
    "    def add_balance(self,amount):\n",
    "        if amount >0:\n",
    "            self.account_balance +=amount\n",
    "            \n",
    "    \n",
    "    def withdraw_balance(self,amount):\n",
    "        if amount < self.account_balance:\n",
    "            self.account_balance -= amount\n",
    "    \n",
    "    def calculate_interest(self,time):\n",
    "        print(self.account_balance * time * 0.05)\n",
    "\n",
    "class SavingsAccount(BankAccount):\n",
    "    def __init__(self, account_number, account_holder_name, account_balance):\n",
    "        super().__init__(account_number, account_holder_name, account_balance)\n",
    "        self.minimum_balance = 3000\n",
    "    \n",
    "    def withdraw_balance(self, amount):\n",
    "        if amount < (self.account_balance - self.minimum_balance):\n",
    "            self.account_balance -= amount\n",
    "            \n",
    "    \n",
    "    def calculate_interest(self, time):\n",
    "        print(self.account_balance * time * 0.02)\n",
    "    \n",
    "    def print_details(self):\n",
    "        print(\"------------------------------------------------------\")\n",
    "        print(f\"Account Holder Name : {self.account_holder_name}\\nAccount Number: {self.account_number}\\nCurrent Balance: {self.account_balance}\")\n",
    "        print(\"------------------------------------------------------\")\n",
    "        \n",
    "\n",
    "\n",
    "raj_Account = SavingsAccount(25100123456, \"Raj\", 6000)\n",
    "raj_Account.calculate_interest(time=5)\n",
    "raj_Account.add_balance(4500)\n",
    "raj_Account.print_details()\n",
    "raj_Account.withdraw_balance(2300)\n",
    "raj_Account.print_details()    "
   ]
  },
  {
   "cell_type": "markdown",
   "id": "852cbfad",
   "metadata": {},
   "source": [
    "___\n",
    "#### <u>Multiple Inheritance</u>\n",
    "The process of deriving the members from more than one `super class` to a single `sub class` is called multiple inheritance.\n",
    "\n",
    "`Example for multiple inheritance`"
   ]
  },
  {
   "cell_type": "code",
   "execution_count": null,
   "id": "0edff5b5",
   "metadata": {},
   "outputs": [
    {
     "name": "stdout",
     "output_type": "stream",
     "text": [
      "300\n"
     ]
    }
   ],
   "source": [
    "class Tyre:\n",
    "    def __init__(self, brand, size):\n",
    "        self.brand = brand\n",
    "        self.size = size\n",
    "\n",
    "class Engine:\n",
    "    def __init__(self, horsepower, type):\n",
    "        \n",
    "        self.horsepower = horsepower\n",
    "        self.type = type\n",
    "\n",
    "class Car(Tyre, Engine):\n",
    "    def __init__(self, brand, size, horsepower, type, ):\n",
    "        # Tyre.__init__(self, brand, size)\n",
    "        # Engine.__init__(self, horsepower, type)\n",
    "        # or\n",
    "        super().__init__(brand, size)\n",
    "        # super().__init__(horsepower, type) this is not possible because super() works with only one parent class at a time, \n",
    "        # so we need to call the parent class constructor directly\n",
    "        Engine.__init__(self, horsepower, type)\n",
    "\n",
    "car1 = Car(\"Michelin\", 16, 300, \"V6\")\n",
    "print(car1.horsepower)"
   ]
  },
  {
   "cell_type": "markdown",
   "id": "50e9f7fb",
   "metadata": {},
   "source": [
    "___\n",
    "#### <u>Hybrid Inheritance</u>\n",
    "The process of including more than one type of inheritance is called as hybrid inheritance.\n",
    "\n",
    "DIAGRAM:\n",
    "```\n",
    "       A       \n",
    "      / \\      \n",
    "     B   C     \n",
    "    / \\   \\    \n",
    "   D   E   F   \n",
    "```"
   ]
  },
  {
   "cell_type": "code",
   "execution_count": null,
   "id": "8d2e8bf5",
   "metadata": {},
   "outputs": [],
   "source": [
    "#EXAMPLE FOR MULTIPLE INHERITANCE\n",
    "class Tyre:\n",
    "    def __init__(self, brand, size):\n",
    "        self.brand = brand\n",
    "        self.size = size\n",
    "\n",
    "class Engine:\n",
    "    def __init__(self, horsepower, type):\n",
    "        self.horsepower = horsepower\n",
    "        self.type = type\n",
    "\n",
    "class Car(Tyre, Engine):\n",
    "    def __init__(self, brand, size, horsepower, type):\n",
    "        Tyre.__init__(self, brand, size)\n",
    "        Engine.__init__(self, horsepower, type)\n",
    "\n",
    "class Truck(Tyre, Engine):\n",
    "    def __init__(self, brand, size, horsepower, type, payload_capacity):\n",
    "        Tyre.__init__(self, brand, size)\n",
    "        Engine.__init__(self, horsepower, type)\n",
    "        self.payload_capacity = payload_capacity\n"
   ]
  },
  {
   "cell_type": "markdown",
   "id": "0c80d32e",
   "metadata": {},
   "source": [
    "___\n",
    "#### <u>Polymorphism</u>\n",
    "The process of using a single entity in different ways is called polymorphism.\n",
    "\n",
    "In python polymorphism is achieved by `operator overloading` and `method overriding`. \n",
    "\n",
    "`note:` method overloading is not possible in python as it does not support compile time polymorphism.\n",
    "\n",
    "- `operator overloading` allows the same operator to have different meanings based on the context.\n",
    "   \n",
    "   example: + operator is used for addition of numbers and concatenation of strings.\n",
    "\n",
    "`Example for method overriding`"
   ]
  },
  {
   "cell_type": "code",
   "execution_count": 7,
   "id": "608ab150",
   "metadata": {},
   "outputs": [
    {
     "name": "stdout",
     "output_type": "stream",
     "text": [
      "I am studying for my master's degree\n",
      "I am studying\n"
     ]
    }
   ],
   "source": [
    "class Student():\n",
    "    def study(self):\n",
    "        print(\"I am studying\")\n",
    "\n",
    "class GraduateStudent(Student):\n",
    "    def study(self):\n",
    "        print(\"I am studying for my master's degree\")\n",
    "\n",
    "grad_student = GraduateStudent()\n",
    "grad_student.study()\n",
    "\n",
    "Stduent = Student()\n",
    "Stduent.study()"
   ]
  },
  {
   "cell_type": "code",
   "execution_count": null,
   "id": "4dbd4b37",
   "metadata": {},
   "outputs": [],
   "source": []
  }
 ],
 "metadata": {
  "kernelspec": {
   "display_name": "Python 3",
   "language": "python",
   "name": "python3"
  },
  "language_info": {
   "codemirror_mode": {
    "name": "ipython",
    "version": 3
   },
   "file_extension": ".py",
   "mimetype": "text/x-python",
   "name": "python",
   "nbconvert_exporter": "python",
   "pygments_lexer": "ipython3",
   "version": "3.13.5"
  }
 },
 "nbformat": 4,
 "nbformat_minor": 5
}
