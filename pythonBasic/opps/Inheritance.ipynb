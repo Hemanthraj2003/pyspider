{
 "cells": [
  {
   "cell_type": "markdown",
   "id": "e6a85f44",
   "metadata": {},
   "source": [
    "# <u> Inheritance </U>\n",
    "\n",
    "The process of deriving the members of a class from another class is called inheritance. \n",
    "\n",
    "##### `Super Class`  -\n",
    "The class from which the members are inherited is called the `super class` or `base class` or `parent class`.\n",
    "\n",
    "##### `Sub Class` -\n",
    "The class that inherits the members from the super class is called the `sub class` or `derived class` or `child class`.\n",
    "\n",
    "___"
   ]
  },
  {
   "cell_type": "markdown",
   "id": "6c22ada2",
   "metadata": {},
   "source": [
    "### TYPES OF INHERITANCE\n",
    "\n",
    "1. Single Inheritance\n",
    "\n",
    "2. Multiple Inheritance\n",
    "\n",
    "3. Multilevel Inheritance\n",
    "\n",
    "4. Hierarchical Inheritance\n",
    "\n",
    "5. Hybrid Inheritance\n",
    "\n",
    "___"
   ]
  },
  {
   "cell_type": "markdown",
   "id": "6d38dd46",
   "metadata": {},
   "source": [
    "##### <u> SINGLE LEVEL INHERITANCE </u>\n",
    "\n",
    "The process of deriving the members from a single `super class` to single `sub class` is called is know as single level inheritance.\n",
    "\n",
    "```python\n",
    "class Parent:\n",
    "    def func1(self):\n",
    "        print(\"This function is in parent class.\")  \n",
    "\n",
    "class Child(Parent):\n",
    "    def func2(self):\n",
    "        print(\"This function is in child class.\")\n",
    "\n",
    "object = Child()\n",
    "object.func1()\n",
    "object.func2()\n",
    "```\n",
    "___"
   ]
  },
  {
   "cell_type": "markdown",
   "id": "7e06ca18",
   "metadata": {},
   "source": [
    "#### WAP for below:\n",
    "\n",
    "1. create a class called `person`, with 3 attributes: ID, age, gender.\n",
    "\n",
    "    - create a method called display that displays the attributes of the class.\n",
    "\n",
    "    - create EAT method that prints \"I am eating\", walk method that prints \"I am walking\".\n",
    "\n",
    "2. create a sub class called `Developer`.\n",
    "\n",
    "    - will have properties like designation, salary and type of language known.\n",
    "\n",
    "    - create method called write code and review code in the class `Developer`.\n",
    "\n",
    "3. create object for both the classes and call all the methods respectively."
   ]
  },
  {
   "cell_type": "code",
   "execution_count": 4,
   "id": "f7319c14",
   "metadata": {},
   "outputs": [
    {
     "name": "stdout",
     "output_type": "stream",
     "text": [
      "ID: 1001\n",
      "Age: 21\n"
     ]
    }
   ],
   "source": [
    "class Person:\n",
    "    \n",
    "    def __init__(self, ID, age, gender):\n",
    "        self.ID = ID\n",
    "        self.age = age\n",
    "        self.gender = gender\n",
    "        \n",
    "    def eat(self):\n",
    "        print(\"I am Eating\")\n",
    "    \n",
    "    def walk(self):\n",
    "        print(\"I am walking\")\n",
    "        \n",
    "\n",
    "class Developer(Person):\n",
    "    \n",
    "    def __init__(self, ID, age, gender, salary,designation,language):\n",
    "        super().__init__( ID, age, gender)\n",
    "        self.salary = salary\n",
    "        self.designation = designation\n",
    "        self.language = language\n",
    "        \n",
    "    def printInfo(self):\n",
    "        print(f\"ID: {self.ID}\\nAge: {self.age}\")\n",
    "    \n",
    "    def writeCode(self):\n",
    "        print(\"I can write code in \", self.language)\n",
    "    \n",
    "    def reviewCode(self):\n",
    "        print(\"I can review code in \", self.reviewCode)\n",
    "        \n",
    "\n",
    "dev01 = Developer(1001,21,\"male\",100, \"DEV\", \"PYTHON\")\n",
    "dev01.printInfo()"
   ]
  },
  {
   "cell_type": "code",
   "execution_count": null,
   "id": "544b6b34",
   "metadata": {},
   "outputs": [],
   "source": []
  }
 ],
 "metadata": {
  "kernelspec": {
   "display_name": "Python 3",
   "language": "python",
   "name": "python3"
  },
  "language_info": {
   "codemirror_mode": {
    "name": "ipython",
    "version": 3
   },
   "file_extension": ".py",
   "mimetype": "text/x-python",
   "name": "python",
   "nbconvert_exporter": "python",
   "pygments_lexer": "ipython3",
   "version": "3.13.7"
  }
 },
 "nbformat": 4,
 "nbformat_minor": 5
}
