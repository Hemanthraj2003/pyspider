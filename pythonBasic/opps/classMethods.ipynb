{
 "cells": [
  {
   "cell_type": "markdown",
   "id": "40519a40",
   "metadata": {},
   "source": [
    "# CLass Methode\n",
    "\n",
    "- These are the methods which belongs to a class\n",
    "\n",
    "- used to perform a task with respect to class \n",
    "\n",
    "- Class method will carry first argument a class reference\n",
    "\n",
    "- class methods are decorated by using `@classmethod`\n",
    "\n",
    "\n",
    "```python\n",
    "#SYNTAX:\n",
    "class ClassName:\n",
    "    ----\n",
    "    @classmethod\n",
    "    def methodName(cls):\n",
    "        ---\n",
    "        ---\n",
    "```"
   ]
  },
  {
   "cell_type": "markdown",
   "id": "0d8c16e6",
   "metadata": {},
   "source": [
    "#### WAP to\n",
    "\n",
    "- Create a class with the following requirements:\n",
    "\n",
    "    - Include 2 class variables.\n",
    "\n",
    "    - Include 2 instance (object) variables.\n",
    "\n",
    "    - Implement methods to perform CRUD (Create, Read, Update, Delete) operations for each variable.\n",
    "\n",
    "    - Create an object if necessary."
   ]
  },
  {
   "cell_type": "code",
   "execution_count": null,
   "id": "ca669acf",
   "metadata": {},
   "outputs": [
    {
     "name": "stdout",
     "output_type": "stream",
     "text": [
      "100\n"
     ]
    }
   ],
   "source": [
    "class Example01:\n",
    "    \n",
    "    @classmethod\n",
    "    def createClassVariable(classAddress, value):\n",
    "        classAddress.classVariable = value\n",
    "    \n",
    "    @classmethod\n",
    "    def readClassVariable(classAddress):\n",
    "        print(classAddress.classVariable)\n",
    "    \n",
    "    @classmethod\n",
    "    def updateClassVariable(classAddress,newValue):\n",
    "        classAddress.classVariable = newValue\n",
    "        \n",
    "    @classmethod\n",
    "    def delClassVariable(classAddress):\n",
    "        del classAddress.classVariable\n",
    "    \n",
    "        \n",
    "    def createObjectVariable(self, value):\n",
    "        self.objectVariable = value\n",
    "    \n",
    "    def readObjectVariable(self):\n",
    "        print(self.objectVariable)\n",
    "    \n",
    "    def updateObjectVariable(self,newValue):\n",
    "        self.objectVariable = 300\n",
    "    \n",
    "    def deleteObjectVariable(self):\n",
    "        del self.objectVariable\n",
    "        \n",
    "\n",
    "\n",
    "e1 = Example01()\n",
    "e2 = Example01()\n",
    "\n",
    "e2.createClassVariable(100)\n",
    "e2.readClassVariable()\n",
    "\n",
    "e2.classVariable = 45\n",
    "print(e2.classVariable)\n",
    "e2.readClassVariable()\n",
    "        \n",
    "    "
   ]
  },
  {
   "cell_type": "markdown",
   "id": "3804cc71",
   "metadata": {},
   "source": [
    "## Static Method"
   ]
  },
  {
   "cell_type": "code",
   "execution_count": 15,
   "id": "1b5c9361",
   "metadata": {},
   "outputs": [
    {
     "name": "stdout",
     "output_type": "stream",
     "text": [
      "89\n",
      "Aabc@123\n"
     ]
    }
   ],
   "source": [
    "class Student:\n",
    "    def __init__(self, name = None, age = None):\n",
    "        self.name = Student.check_is_upper(name)\n",
    "        self.age = Student.check_age(age)\n",
    "        \n",
    "    @staticmethod\n",
    "    def check_age(age):\n",
    "        if age >= 18 and age <=100:\n",
    "            return age\n",
    "        return -1\n",
    "    \n",
    "    @staticmethod\n",
    "    def check_is_upper(name):\n",
    "        return (name[0].upper() + name[1:])\n",
    "        \n",
    "\n",
    "s1 = Student(\"aabc@123\", 89)\n",
    "print(s1.age)\n",
    "print(s1.name)"
   ]
  },
  {
   "cell_type": "markdown",
   "id": "280bf3ac",
   "metadata": {},
   "source": [
    "CLass contains object variables that is ID , age, name,\n",
    "\n",
    "initialize the object with respect to the objects\n",
    "\n",
    "create another class called student1 with 5 attributes: ID, age, name, address and gender. initialize with respect to objects."
   ]
  },
  {
   "cell_type": "code",
   "execution_count": 4,
   "id": "503d5e50",
   "metadata": {},
   "outputs": [
    {
     "name": "stdout",
     "output_type": "stream",
     "text": [
      "Raj001\n"
     ]
    }
   ],
   "source": [
    "class Student:\n",
    "    \n",
    "    def __init__(self, ID, age, name, address, gender):\n",
    "        self.ID = ID\n",
    "        self.age = age\n",
    "        self.name = name\n",
    "        self.address = address\n",
    "        self.gender = gender\n",
    "        print(self.name)\n",
    "class Student1:\n",
    "    def __init__(self, ID, age, name, address, gender):\n",
    "        self.ID = ID\n",
    "        self.age = age\n",
    "        self.name = name\n",
    "        self.address = address\n",
    "        self.gender = gender\n",
    "        \n",
    "\n",
    "std0 = Student(1001,25,\"Raj001\",\"HV Halli\",\"Male\")\n",
    "std1 = Student1(1002, 20, \"Raj007\", \"Banglore\", \"Male\")"
   ]
  }
 ],
 "metadata": {
  "kernelspec": {
   "display_name": "Python 3",
   "language": "python",
   "name": "python3"
  },
  "language_info": {
   "codemirror_mode": {
    "name": "ipython",
    "version": 3
   },
   "file_extension": ".py",
   "mimetype": "text/x-python",
   "name": "python",
   "nbconvert_exporter": "python",
   "pygments_lexer": "ipython3",
   "version": "3.13.7"
  }
 },
 "nbformat": 4,
 "nbformat_minor": 5
}
