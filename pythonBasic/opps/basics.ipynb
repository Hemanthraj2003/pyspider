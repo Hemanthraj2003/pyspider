{
 "cells": [
  {
   "cell_type": "markdown",
   "id": "c8b0d829",
   "metadata": {},
   "source": [
    "## <font color=#fdd000> CLASS VARIABLE</font>\n",
    "- class variable are inside the class and those can be referenced by its objects, one copy of class variable is referenced by all its Objects\n",
    "\n",
    "#### How to create a class variable\n",
    "1. by using class reference or class adddress\n",
    "\n",
    "2. by directly defining inside the class\n",
    "\n",
    "\n",
    "#### 1. By directly defining inside the class\n",
    "```\n",
    "class className:\n",
    "    varName = value  <-- class variable\n",
    "```\n",
    "```python\n",
    "#example\n",
    "class Student:\n",
    "    rollNo = 10\n",
    "    -\n",
    "    -\n",
    "\n",
    "print(Student.rollNo)\n",
    "```\n",
    "\n",
    "\n",
    "### <font color=#fdd000>updating class variable</font>\n",
    "1. by using class reference / address\n",
    "\n",
    "    - if any class variable is modified class reference, then it will effect for entier class including objects\n",
    "\n",
    "2. by using object reference / address\n",
    "\n",
    "    - if any class variable is modified object reference, then it will effect only the current object\n",
    "\n",
    "```\n",
    "class Student:\n",
    "    roomNo = 100\n",
    "    -\n",
    "    -\n",
    "\n",
    "s1 = Student()\n",
    "s2 = Student()\n",
    "Student.roomno = 200  <--- by using class reference\n",
    "print(s1.roomno) \n",
    "s2.roomno = 300  <--- by using object reference\n",
    "print(s2.roomno)\n",
    "```\n",
    "\n",
    "### <font color=#fdd000>Deleting of class variable</font>"
   ]
  },
  {
   "cell_type": "markdown",
   "id": "d66e8138",
   "metadata": {},
   "source": []
  },
  {
   "cell_type": "code",
   "execution_count": 3,
   "id": "6473cf59",
   "metadata": {},
   "outputs": [
    {
     "name": "stdout",
     "output_type": "stream",
     "text": [
      "101\n",
      "100\n",
      "101\n",
      "102\n",
      "101\n"
     ]
    }
   ],
   "source": [
    "class Student:\n",
    "    roomNo = 100\n",
    "    \n",
    "s1 = Student()\n",
    "s2 = Student()\n",
    "\n",
    "s1.roomNo = 101\n",
    "print(s1.roomNo)  #\n",
    "print(s2.roomNo)  \n",
    "\n",
    "Student.roomNo = 102\n",
    "print(s1.roomNo)  \n",
    "print(s2.roomNo)  \n",
    "\n",
    "del Student.roomNo\n",
    "print(s1.roomNo)  "
   ]
  },
  {
   "cell_type": "code",
   "execution_count": null,
   "id": "71403020",
   "metadata": {},
   "outputs": [],
   "source": []
  }
 ],
 "metadata": {
  "kernelspec": {
   "display_name": "Python 3",
   "language": "python",
   "name": "python3"
  },
  "language_info": {
   "codemirror_mode": {
    "name": "ipython",
    "version": 3
   },
   "file_extension": ".py",
   "mimetype": "text/x-python",
   "name": "python",
   "nbconvert_exporter": "python",
   "pygments_lexer": "ipython3",
   "version": "3.13.5"
  }
 },
 "nbformat": 4,
 "nbformat_minor": 5
}
