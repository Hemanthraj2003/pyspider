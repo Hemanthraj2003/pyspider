{
 "cells": [
  {
   "cell_type": "markdown",
   "id": "83a3e900",
   "metadata": {},
   "source": [
    "## METHODS\n",
    "\n",
    "Object Method:\n",
    "\n"
   ]
  },
  {
   "cell_type": "code",
   "execution_count": null,
   "id": "6360a2dd",
   "metadata": {},
   "outputs": [],
   "source": [
    "class Account:\n",
    "    \n",
    "    def __init__(self, accountNumber, Balance):\n",
    "        self.accno = accountNumber\n",
    "        self.bal = Balance \n",
    "    \n",
    "    def checkBalance(self):\n",
    "        print(\"Current Balance is: \", self.balance)\n",
    "        \n",
    "    def withdraw(self, amt):\n",
    "        "
   ]
  },
  {
   "cell_type": "code",
   "execution_count": null,
   "id": "03ae2b7b",
   "metadata": {},
   "outputs": [],
   "source": [
    "class Cart:\n",
    "    \n",
    "    def initialize(self):\n",
    "        self.cart = []\n",
    "    \n",
    "    def add_items(self, item):\n",
    "        self.cart.append(item)\n",
    "    \n",
    "    def display_card(self):\n",
    "        pass\n",
    "    \n",
    "    def remove_items(self, item):\n",
    "        pass"
   ]
  },
  {
   "cell_type": "markdown",
   "id": "0fbd32fc",
   "metadata": {},
   "source": []
  }
 ],
 "metadata": {
  "language_info": {
   "name": "python"
  }
 },
 "nbformat": 4,
 "nbformat_minor": 5
}
