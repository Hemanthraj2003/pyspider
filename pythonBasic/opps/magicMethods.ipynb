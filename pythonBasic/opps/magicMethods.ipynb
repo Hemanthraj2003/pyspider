{
 "cells": [
  {
   "cell_type": "markdown",
   "id": "a49097f9",
   "metadata": {},
   "source": [
    "## MAGIC METHODS"
   ]
  },
  {
   "cell_type": "markdown",
   "id": "d693847b",
   "metadata": {},
   "source": [
    "`__str__`\n",
    "- method used to provide nessaray information of the object when ever print the object\n",
    "- `default` information is memeory address of the object!!"
   ]
  },
  {
   "cell_type": "markdown",
   "id": "bd05ef04",
   "metadata": {},
   "source": [
    "___\n",
    "`__repr__`\n",
    "- methode used to represnt our object with information\n",
    "```\n",
    "class Student:\n",
    "    def __init__(self,name,age):\n",
    "        self.name=name\n",
    "        self.age=age\n",
    "    def __str__(self):\n",
    "        return f\"Student name is {self.name} and age is {self.age}\"\n",
    "    def __repr__(self):\n",
    "        return f\"Student('{self.name}',{self.age})\"  \n",
    "\n",
    "s1=Student(\"John\",23)\n",
    "print(s1)  # Student name is John and age is 23\n",
    "\n",
    "l = []\n",
    "l.append(s1)\n",
    "print(l)  # [Student('John', 23)]\n",
    "```"
   ]
  },
  {
   "cell_type": "markdown",
   "id": "af0eb59c",
   "metadata": {},
   "source": [
    "___\n",
    "`__add__`\n",
    "- method used to add two objects of same class\n",
    "```\n",
    "class Student:\n",
    "    def __init__(self,name,age):\n",
    "        self.name=name\n",
    "        self.age=age\n",
    "    def __add__(self,other):\n",
    "        return self.age + other.age\n",
    "s1=Student(\"John\",23)\n",
    "s2=Student(\"Doe\",24)\n",
    "print(s1+s2)  # 47\n",
    "```"
   ]
  },
  {
   "cell_type": "markdown",
   "id": "3a005247",
   "metadata": {},
   "source": []
  }
 ],
 "metadata": {
  "kernelspec": {
   "display_name": "Python 3",
   "language": "python",
   "name": "python3"
  },
  "language_info": {
   "codemirror_mode": {
    "name": "ipython",
    "version": 3
   },
   "file_extension": ".py",
   "mimetype": "text/x-python",
   "name": "python",
   "nbconvert_exporter": "python",
   "pygments_lexer": "ipython3",
   "version": "3.13.7"
  }
 },
 "nbformat": 4,
 "nbformat_minor": 5
}
