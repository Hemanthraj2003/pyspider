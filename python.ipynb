{
 "cells": [
  {
   "cell_type": "markdown",
   "id": "e74a4aec",
   "metadata": {},
   "source": [
    "# code to spell the numbers in words"
   ]
  },
  {
   "cell_type": "code",
   "execution_count": null,
   "id": "1a2e7bb5",
   "metadata": {},
   "outputs": [],
   "source": [
    "ones = [\"\", \"one\", \"tow\", \"three\", \"four\", \"five\", \"six\", \"seven\", \"Eight\", \"Nine\"]\n",
    "tens = [\"ten\",\"twenty\", \"thirty\", \"fourty\", \"fifty\", \"sixty\", \"seventy\", \"eighty\", \"ninety\" ]\n",
    "\n",
    "\n",
    "def three_digit_to_words(num):\n",
    "    \n",
    "    if num == 0:\n",
    "        return \"\"\n",
    "    \n",
    "    parts = []\n",
    "    \n",
    "\n",
    "\n",
    "words = []\n",
    "group_count = 0\n",
    "n = 123456789\n",
    "while n > 0:\n",
    "    group = n %1000\n",
    "    if group : \n",
    "        "
   ]
  }
 ],
 "metadata": {
  "language_info": {
   "name": "python"
  }
 },
 "nbformat": 4,
 "nbformat_minor": 5
}
